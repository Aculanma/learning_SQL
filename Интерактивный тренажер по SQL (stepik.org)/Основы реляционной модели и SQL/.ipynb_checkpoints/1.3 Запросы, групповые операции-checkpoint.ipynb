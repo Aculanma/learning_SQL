{
 "cells": [
  {
   "cell_type": "markdown",
   "id": "6b078042",
   "metadata": {},
   "source": [
    "# Запросы, групповые операции"
   ]
  },
  {
   "cell_type": "markdown",
   "id": "d4c25284",
   "metadata": {},
   "source": [
    "Структура и наполнение таблицы `book`:"
   ]
  },
  {
   "cell_type": "code",
   "execution_count": null,
   "id": "02c04e6d",
   "metadata": {},
   "outputs": [],
   "source": [
    "+---------+-----------------------+------------------+--------+--------+\n",
    "| book_id | title                 | author           | price  | amount |\n",
    "+---------+-----------------------+------------------+--------+--------+\n",
    "| 1       | Мастер и Маргарита    | Булгаков М.А.    | 670.99 | 3      |\n",
    "| 2       | Белая гвардия         | Булгаков М.А.    | 540.50 | 5      |\n",
    "| 3       | Идиот                 | Достоевский Ф.М. | 460.00 | 10     |\n",
    "| 4       | Братья Карамазовы     | Достоевский Ф.М. | 799.01 | 3      |\n",
    "| 5       | Игрок                 | Достоевский Ф.М. | 480.50 | 10     |\n",
    "| 6       | Стихотворения и поэмы | Есенин С.А.      | 650.00 | 15     |\n",
    "+---------+-----------------------+------------------+--------+--------+"
   ]
  },
  {
   "cell_type": "markdown",
   "id": "edc4ce61",
   "metadata": {},
   "source": [
    "### 15 Выбор уникальных элементов столбца"
   ]
  },
  {
   "cell_type": "markdown",
   "id": "dc146133",
   "metadata": {},
   "source": [
    "Отобрать различные (уникальные) элементы столбца amount таблицы `book`."
   ]
  },
  {
   "cell_type": "code",
   "execution_count": null,
   "id": "d6c0925a",
   "metadata": {},
   "outputs": [],
   "source": [
    "SELECT DISTINCT amount\n",
    "  FROM book;"
   ]
  },
  {
   "cell_type": "markdown",
   "id": "0734c24d",
   "metadata": {},
   "source": [
    "### 16 Выборка данных, групповые функции SUM и COUNT"
   ]
  },
  {
   "cell_type": "markdown",
   "id": "5fb32eb5",
   "metadata": {},
   "source": [
    "Посчитать, количество различных книг и количество экземпляров книг каждого автора, хранящихся на складе.  Столбцы назвать Автор, Различных_книг и Количество_экземпляров соответственно."
   ]
  },
  {
   "cell_type": "code",
   "execution_count": null,
   "id": "148f743c",
   "metadata": {},
   "outputs": [],
   "source": [
    "SELECT author AS Автор, \n",
    "       COUNT(title) AS Различных_книг, \n",
    "       SUM(amount) AS Количество_экземпляров\n",
    "  FROM book\n",
    " GROUP BY author;"
   ]
  },
  {
   "cell_type": "markdown",
   "id": "a4f2ffc5",
   "metadata": {},
   "source": [
    "### 17 Выборка данных, групповые функции MIN, MAX и AVG"
   ]
  },
  {
   "cell_type": "markdown",
   "id": "958f8da4",
   "metadata": {},
   "source": [
    "Вывести фамилию и инициалы автора, минимальную, максимальную и среднюю цену книг каждого автора . Вычисляемые столбцы назвать Минимальная_цена, Максимальная_цена и Средняя_цена соответственно."
   ]
  },
  {
   "cell_type": "code",
   "execution_count": null,
   "id": "72ec26cf",
   "metadata": {},
   "outputs": [],
   "source": [
    "SELECT author, \n",
    "       MIN(price) AS Минимальная_цена, \n",
    "       MAX(price) AS Максимальная_цена, \n",
    "       AVG(price) AS Средняя_цена\n",
    "  FROM book\n",
    " GROUP BY author;"
   ]
  },
  {
   "cell_type": "markdown",
   "id": "71d4183e",
   "metadata": {},
   "source": [
    "### 18 Выборка данных c вычислением, групповые функции"
   ]
  },
  {
   "cell_type": "markdown",
   "id": "bdde4128",
   "metadata": {},
   "source": [
    "Для каждого автора вычислить суммарную стоимость книг S (имя столбца Стоимость), а также вычислить налог на добавленную стоимость  для полученных сумм (имя столбца НДС ) , который включен в стоимость и составляет k = 18%,  а также стоимость книг  (Стоимость_без_НДС) без него. Значения округлить до двух знаков после запятой. В запросе для расчета НДС(tax)  и Стоимости без НДС(S_without_tax) использовать следующие формулы:"
   ]
  },
  {
   "attachments": {
    "image.png": {
     "image/png": "[encoded data removed]"
    }
   },
   "cell_type": "markdown",
   "id": "13653e48",
   "metadata": {},
   "source": [
    "![image.png](attachment:image.png)"
   ]
  },
  {
   "cell_type": "code",
   "execution_count": null,
   "id": "3fb83131",
   "metadata": {},
   "outputs": [],
   "source": [
    "SELECT author, \n",
    "       SUM(price*amount) AS Стоимость, \n",
    "       ROUND((SUM(price*amount) * 18/100)/(1+18/100),2) AS НДС, \n",
    "       ROUND((SUM(price*amount)/(1+18/100)),2) AS Стоимость_без_НДС\n",
    "  FROM book\n",
    " GROUP BY author;"
   ]
  },
  {
   "cell_type": "markdown",
   "id": "0bb1b714",
   "metadata": {},
   "source": [
    "### 19 Вычисления по таблице целиком"
   ]
  },
  {
   "cell_type": "markdown",
   "id": "5d274226",
   "metadata": {},
   "source": [
    "Вывести  цену самой дешевой книги, цену самой дорогой и среднюю цену уникальных книг на складе. Названия столбцов Минимальная_цена, Максимальная_цена, Средняя_цена соответственно. Среднюю цену округлить до двух знаков после запятой.\n",
    "\n",
    "Пояснение. В задании нужно посчитать среднюю цену уникальных книг на складе, а не среднюю цену всех экземпляров книг."
   ]
  },
  {
   "cell_type": "code",
   "execution_count": null,
   "id": "6458afc0",
   "metadata": {},
   "outputs": [],
   "source": [
    "SELECT MIN(price) AS Минимальная_цена, \n",
    "       MAX(price) AS Максимальная_цена, ROUND(AVG(price), 2) AS Средняя_цена\n",
    "  FROM book;"
   ]
  },
  {
   "cell_type": "markdown",
   "id": "e06cf595",
   "metadata": {},
   "source": [
    "### 20 Выборка данных по условию, групповые функции"
   ]
  },
  {
   "cell_type": "markdown",
   "id": "f90b76c3",
   "metadata": {},
   "source": [
    "Вычислить среднюю цену и суммарную стоимость тех книг, количество экземпляров которых принадлежит интервалу от 5 до 14, включительно. Столбцы назвать Средняя_цена и Стоимость, значения округлить до 2-х знаков после запятой."
   ]
  },
  {
   "cell_type": "code",
   "execution_count": null,
   "id": "010edc80",
   "metadata": {},
   "outputs": [],
   "source": [
    "SELECT ROUND(AVG(price),2) AS Средняя_цена, \n",
    "       ROUND(SUM(price*amount),2) AS Стоимость\n",
    "  FROM book\n",
    " WHERE amount BETWEEN 5 AND 14;"
   ]
  },
  {
   "cell_type": "markdown",
   "id": "4b387eff",
   "metadata": {},
   "source": [
    "### 21 Выборка данных по условию, групповые функции, WHERE и HAVING"
   ]
  },
  {
   "cell_type": "markdown",
   "id": "7862b413",
   "metadata": {},
   "source": [
    "Посчитать стоимость всех экземпляров каждого автора без учета книг «Идиот» и «Белая гвардия». В результат включить только тех авторов, у которых суммарная стоимость книг (без учета книг «Идиот» и «Белая гвардия») более 5000 руб. Вычисляемый столбец назвать Стоимость. Результат отсортировать по убыванию стоимости."
   ]
  },
  {
   "cell_type": "code",
   "execution_count": null,
   "id": "332b7fe2",
   "metadata": {},
   "outputs": [],
   "source": [
    "SELECT author, \n",
    "       SUM(price*amount) AS Стоимость\n",
    "  FROM book\n",
    " WHERE title <> 'Идиот' and title <> 'Белая Гвардия'\n",
    " GROUP BY author\n",
    "HAVING SUM(price*amount)>5000\n",
    " ORDER BY Стоимость DESC;"
   ]
  }
 ],
 "metadata": {
  "kernelspec": {
   "display_name": "Python 3 (ipykernel)",
   "language": "python",
   "name": "python3"
  },
  "language_info": {
   "codemirror_mode": {
    "name": "ipython",
    "version": 3
   },
   "file_extension": ".py",
   "mimetype": "text/x-python",
   "name": "python",
   "nbconvert_exporter": "python",
   "pygments_lexer": "ipython3",
   "version": "3.9.7"
  }
 },
 "nbformat": 4,
 "nbformat_minor": 5
}
