{
 "cells": [
  {
   "cell_type": "markdown",
   "id": "4d309a0a",
   "metadata": {},
   "source": [
    "# База данных «Учебная аналитика по курсу»"
   ]
  },
  {
   "cell_type": "markdown",
   "id": "d6213e6b",
   "metadata": {},
   "source": [
    "### 125"
   ]
  },
  {
   "cell_type": "code",
   "execution_count": null,
   "id": "8d4e9444",
   "metadata": {},
   "outputs": [],
   "source": [
    "SELECT IF(LENGTH(CONCAT(lesson.module_id, ' ', LEFT(module_name, 14), '...')) > 19,\n",
    "          CONCAT(lesson.module_id, ' ', LEFT(module_name, 14), '...'),\n",
    "          CONCAT(lesson.module_id, ' ', module_name)) AS Модуль,\n",
    "       IF(LENGTH(CONCAT(lesson.module_id, '.', lesson.lesson_position, ' ', LEFT(lesson_name, 12), '...')) > 19,\n",
    "          CONCAT(lesson.module_id, '.', lesson.lesson_position, ' ', LEFT(lesson_name, 12), '...'),\n",
    "          CONCAT(lesson.module_id, '.', lesson.lesson_position, ' ', lesson_name)) AS Урок,\n",
    "       CONCAT(lesson.module_id, '.', lesson.lesson_position, '.', step_position, ' ', step_name) AS Шаг\n",
    "FROM module JOIN lesson\n",
    "     ON module.module_id = lesson.module_id\n",
    "     JOIN step \n",
    "     ON lesson.lesson_id = step.lesson_id\n",
    "WHERE step_name LIKE '%ложенн%'\n",
    "ORDER BY Модуль, Урок, Шаг\n"
   ]
  }
 ],
 "metadata": {
  "kernelspec": {
   "display_name": "Python 3 (ipykernel)",
   "language": "python",
   "name": "python3"
  },
  "language_info": {
   "codemirror_mode": {
    "name": "ipython",
    "version": 3
   },
   "file_extension": ".py",
   "mimetype": "text/x-python",
   "name": "python",
   "nbconvert_exporter": "python",
   "pygments_lexer": "ipython3",
   "version": "3.9.7"
  }
 },
 "nbformat": 4,
 "nbformat_minor": 5
}
