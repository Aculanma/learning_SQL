{
 "cells": [
  {
   "cell_type": "markdown",
   "id": "6f48db9f",
   "metadata": {},
   "source": [
    "# Запросы корректировки, соединение таблиц"
   ]
  },
  {
   "cell_type": "markdown",
   "id": "52933220",
   "metadata": {},
   "source": [
    "Структура и наполнение таблиц:"
   ]
  },
  {
   "cell_type": "code",
   "execution_count": null,
   "id": "0ecf1eaf",
   "metadata": {},
   "outputs": [],
   "source": [
    "Таблица book\n",
    "+---------+-----------------------+-----------+----------+--------+--------+\n",
    "| book_id | title                 | author_id | genre_id | price  | amount |\n",
    "+---------+-----------------------+-----------+----------+--------+--------+\n",
    "| 1       | Мастер и Маргарита    | 1         | 1        | 670.99 | 3      |\n",
    "| 2       | Белая гвардия         | 1         | 1        | 540.50 | 5      |\n",
    "| 3       | Идиот                 | 2         | 1        | 460.00 | 10     |\n",
    "| 4       | Братья Карамазовы     | 2         | 1        | 799.01 | 3      |\n",
    "| 5       | Игрок                 | 2         | 1        | 480.50 | 10     |\n",
    "| 6       | Стихотворения и поэмы | 3         | 2        | 650.00 | 15     |\n",
    "| 7       | Черный человек        | 3         | 2        | 570.20 | 6      |\n",
    "| 8       | Лирика                | 4         | 2        | 518.99 | 2      |\n",
    "+---------+-----------------------+-----------+----------+--------+--------+\n",
    "Таблица supply\n",
    "+-----------+-----------------------+------------------+--------+--------+\n",
    "| supply_id | title                 | author           | price  | amount |\n",
    "+-----------+-----------------------+------------------+--------+--------+\n",
    "| 1         | Доктор Живаго         | Пастернак Б.Л.   | 380.80 | 4      |\n",
    "| 2         | Черный человек        | Есенин С.А.      | 570.20 | 6      |\n",
    "| 3         | Белая гвардия         | Булгаков М.А.    | 540.50 | 7      |\n",
    "| 4         | Идиот                 | Достоевский Ф.М. | 360.80 | 3      |\n",
    "| 5         | Стихотворения и поэмы | Лермонтов М.Ю.   | 255.90 | 4      |\n",
    "| 6         | Остров сокровищ       | Стивенсон Р.Л.   | 599.99 | 5      |\n",
    "+-----------+-----------------------+------------------+--------+--------+\n",
    "Таблица author                          Таблица genre\n",
    "+-----------+------------------+\t+----------+-------------+\t\t\t\n",
    "| author_id | name_author      |\t| genre_id | name_genre  |\t\t\t\n",
    "+-----------+------------------+\t+----------+-------------+\t\t\t\n",
    "| 1         | Булгаков М.А.    |\t| 1        | Роман       |\t\t\t\n",
    "| 2         | Достоевский Ф.М. |\t| 2        | Поэзия      |\t\t\t\n",
    "| 3         | Есенин С.А.      |\t| 3        | Приключения |\t\t\t\n",
    "| 4         | Пастернак Б.Л.   |\t+----------+-------------+\t\t\t\n",
    "| 5         | Лермонтов М.Ю.   |\t\t\t\t\t\t\t\n",
    "+-----------+------------------+\t\t"
   ]
  },
  {
   "cell_type": "markdown",
   "id": "0dbd5621",
   "metadata": {},
   "source": [
    "### 69 Запросы на обновление, связанные таблицы"
   ]
  },
  {
   "cell_type": "markdown",
   "id": "22f4c3ce",
   "metadata": {},
   "source": [
    "Для книг, которые уже есть на складе (в таблице `book`), но по другой цене, чем в поставке (`supply`),  необходимо в таблице `book` увеличить количество на значение, указанное в поставке,  и пересчитать цену. А в таблице `supply` обнулить количество этих книг. Формула для пересчета цены:"
   ]
  },
  {
   "attachments": {
    "image.png": {
     "image/png": "[encoded data removed]"
    }
   },
   "cell_type": "markdown",
   "id": "91cb3d66",
   "metadata": {},
   "source": [
    "![image.png](attachment:image.png)"
   ]
  },
  {
   "cell_type": "code",
   "execution_count": null,
   "id": "053560a1",
   "metadata": {},
   "outputs": [],
   "source": [
    "UPDATE book\n",
    "  JOIN author ON book.author_id = author.author_id\n",
    "  JOIN supply ON book.title = supply.title \n",
    "              AND author.name_author = supply.author\n",
    "\n",
    "   SET book.amount = book.amount + supply.amount,\n",
    "       supply.amount = 0,\n",
    "       book.price = (book.price * book.amount + supply.price * supply.amount)/(book.amount + supply.amount)\n",
    " WHERE book.price != supply.price;\n",
    "\n",
    "SELECT * FROM book;\n",
    "SELECT * FROM supply;"
   ]
  },
  {
   "cell_type": "markdown",
   "id": "24dccceb",
   "metadata": {},
   "source": [
    "### 70 Запросы на добавление, связанные таблицы"
   ]
  },
  {
   "cell_type": "markdown",
   "id": "2e32e5ec",
   "metadata": {},
   "source": [
    "Включить новых авторов в таблицу `author` с помощью запроса на добавление, а затем вывести все данные из таблицы `author`.  Новыми считаются авторы, которые есть в таблице supply, но нет в таблице author."
   ]
  },
  {
   "cell_type": "code",
   "execution_count": null,
   "id": "21640c7e",
   "metadata": {},
   "outputs": [],
   "source": [
    "INSERT INTO author(name_author)\n",
    "SELECT author\n",
    "  FROM supply LEFT JOIN author \n",
    "       ON supply.author = author.name_author\n",
    " WHERE name_author IS NULL;\n",
    "\n",
    "SELECT * FROM author;"
   ]
  },
  {
   "cell_type": "markdown",
   "id": "dc646e43",
   "metadata": {},
   "source": [
    "### 71 Запрос на добавление, связанные таблицы"
   ]
  },
  {
   "cell_type": "markdown",
   "id": "3aa695cf",
   "metadata": {},
   "source": [
    "Добавить новые книги из таблицы `supply` в таблицу `book`. Затем вывести для просмотра таблицу `book`."
   ]
  },
  {
   "cell_type": "code",
   "execution_count": null,
   "id": "215b29ac",
   "metadata": {},
   "outputs": [],
   "source": [
    "INSERT INTO book(title, author_id, price, amount)\n",
    "SELECT title, \n",
    "       author_id, \n",
    "       price, \n",
    "       amount\n",
    "  FROM author INNER JOIN supply \n",
    "       ON author.name_author = supply.author\n",
    " WHERE amount <> 0;\n",
    "\n",
    "SELECT * FROM book;"
   ]
  },
  {
   "cell_type": "markdown",
   "id": "7c12ee68",
   "metadata": {},
   "source": [
    "### 72 Запрос на обновление, вложенные запросы"
   ]
  },
  {
   "cell_type": "markdown",
   "id": "2a8aa912",
   "metadata": {},
   "source": [
    "Занести для книги «Стихотворения и поэмы» Лермонтова жанр «Поэзия», а для книги «Остров сокровищ» Стивенсона - «Приключения». (Использовать два запроса)."
   ]
  },
  {
   "cell_type": "code",
   "execution_count": null,
   "id": "b2c3e40f",
   "metadata": {},
   "outputs": [],
   "source": [
    "UPDATE book\n",
    "   SET genre_id = 2\n",
    " WHERE book_id = 10;\n",
    "\n",
    "UPDATE book\n",
    "   SET genre_id = 3\n",
    " WHERE book_id = 11;\n",
    "    \n",
    "SELECT * FROM book;"
   ]
  },
  {
   "cell_type": "markdown",
   "id": "c6f56b2b",
   "metadata": {},
   "source": [
    "### 73 Каскадное удаление записей связанных таблиц"
   ]
  },
  {
   "cell_type": "markdown",
   "id": "05b85be2",
   "metadata": {},
   "source": [
    "Удалить всех авторов и все их книги, общее количество книг которых меньше 20."
   ]
  },
  {
   "cell_type": "code",
   "execution_count": null,
   "id": "f8a4c36d",
   "metadata": {},
   "outputs": [],
   "source": [
    "DELETE FROM author\n",
    " WHERE author_id IN (SELECT author_id\n",
    "                       FROM book\n",
    "                      GROUP BY author_id\n",
    "                     HAVING SUM(amount) < 20);\n",
    "\n",
    "SELECT * FROM author;\n",
    "SELECT * FROM book;"
   ]
  },
  {
   "cell_type": "markdown",
   "id": "99ffb5ee",
   "metadata": {},
   "source": [
    "### 74 Удаление записей главной таблицы с сохранением записей в зависимой"
   ]
  },
  {
   "cell_type": "markdown",
   "id": "ef2683ee",
   "metadata": {},
   "source": [
    "Удалить все жанры, к которым относится меньше 4-х книг. В таблице `book` для этих жанров установить значение Null."
   ]
  },
  {
   "cell_type": "code",
   "execution_count": null,
   "id": "396095a9",
   "metadata": {},
   "outputs": [],
   "source": [
    "DELETE FROM genre\n",
    " WHERE genre_id IN(SELECT genre_id\n",
    "                     FROM book\n",
    "                    GROUP BY genre_id\n",
    "                   HAVING COUNT(title) < 4);\n",
    "    \n",
    "SELECT * FROM genre;\n",
    "SELECT * FROM book;"
   ]
  },
  {
   "cell_type": "markdown",
   "id": "2b815c2b",
   "metadata": {},
   "source": [
    "### 75 Удаление записей, использование связанных таблиц"
   ]
  },
  {
   "cell_type": "markdown",
   "id": "6694db9b",
   "metadata": {},
   "source": [
    "Удалить всех авторов, которые пишут в жанре \"Поэзия\". Из таблицы `book` удалить все книги этих авторов. В запросе для отбора авторов использовать полное название жанра, а не его id."
   ]
  },
  {
   "cell_type": "code",
   "execution_count": null,
   "id": "45883d13",
   "metadata": {},
   "outputs": [],
   "source": [
    "DELETE FROM author\n",
    " USING author\n",
    "       JOIN book \n",
    "       ON author.author_id = book.author_id\n",
    " WHERE genre_id IN(SELECT genre_id\n",
    "                     FROM genre\n",
    "                    WHERE name_genre = 'Поэзия');\n",
    "    \n",
    "SELECT * FROM author;\n",
    "SELECT * FROM book;"
   ]
  }
 ],
 "metadata": {
  "kernelspec": {
   "display_name": "Python 3 (ipykernel)",
   "language": "python",
   "name": "python3"
  },
  "language_info": {
   "codemirror_mode": {
    "name": "ipython",
    "version": 3
   },
   "file_extension": ".py",
   "mimetype": "text/x-python",
   "name": "python",
   "nbconvert_exporter": "python",
   "pygments_lexer": "ipython3",
   "version": "3.9.7"
  }
 },
 "nbformat": 4,
 "nbformat_minor": 5
}
