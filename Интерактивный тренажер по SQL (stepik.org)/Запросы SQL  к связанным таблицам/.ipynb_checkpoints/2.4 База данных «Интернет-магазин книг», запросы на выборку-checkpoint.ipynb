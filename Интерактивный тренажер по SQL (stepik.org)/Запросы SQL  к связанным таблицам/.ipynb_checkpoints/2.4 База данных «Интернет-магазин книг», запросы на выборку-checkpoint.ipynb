{
 "cells": [
  {
   "cell_type": "markdown",
   "id": "3dc6b9cf",
   "metadata": {},
   "source": [
    "# База данных «Интернет-магазин книг», запросы на выборку"
   ]
  },
  {
   "cell_type": "markdown",
   "id": "985c0ca3",
   "metadata": {},
   "source": [
    "### 76 Запросы на основе трех и более связанных таблиц"
   ]
  },
  {
   "cell_type": "code",
   "execution_count": null,
   "id": "f541bc36",
   "metadata": {},
   "outputs": [],
   "source": []
  }
 ],
 "metadata": {
  "kernelspec": {
   "display_name": "Python 3 (ipykernel)",
   "language": "python",
   "name": "python3"
  },
  "language_info": {
   "codemirror_mode": {
    "name": "ipython",
    "version": 3
   },
   "file_extension": ".py",
   "mimetype": "text/x-python",
   "name": "python",
   "nbconvert_exporter": "python",
   "pygments_lexer": "ipython3",
   "version": "3.9.7"
  }
 },
 "nbformat": 4,
 "nbformat_minor": 5
}
