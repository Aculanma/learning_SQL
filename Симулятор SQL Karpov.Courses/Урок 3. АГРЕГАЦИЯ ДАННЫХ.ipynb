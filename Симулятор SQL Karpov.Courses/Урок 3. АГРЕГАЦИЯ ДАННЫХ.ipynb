{
 "cells": [
  {
   "cell_type": "markdown",
   "id": "6f5a585d",
   "metadata": {},
   "source": [
    "# Урок 3. АГРЕГАЦИЯ ДАННЫХ"
   ]
  },
  {
   "cell_type": "markdown",
   "id": "41439011",
   "metadata": {},
   "source": [
    "### Задача 1"
   ]
  },
  {
   "cell_type": "markdown",
   "id": "cf3cf74a",
   "metadata": {},
   "source": [
    "Для начала решим простую задачу: выведите `id всех уникальных пользователей` из таблицы `user_actions`. Результат отсортируйте по возрастанию id.\n",
    "\n",
    "Поле в результирующей таблице: user_id"
   ]
  },
  {
   "cell_type": "code",
   "execution_count": null,
   "id": "0f27adb5",
   "metadata": {},
   "outputs": [],
   "source": [
    "SELECT DISTINCT user_id\n",
    "  FROM user_actions\n",
    " ORDER BY user_id "
   ]
  },
  {
   "cell_type": "markdown",
   "id": "d6bfbbd3",
   "metadata": {},
   "source": [
    "### Задача 2"
   ]
  },
  {
   "cell_type": "markdown",
   "id": "623efbf5",
   "metadata": {},
   "source": [
    "Ключевое слово DISTINCT можно применять не только к одной колонке, но и сразу к нескольким. В таком случае в качестве результата запрос вернёт уникальные комбинации значений, встречающихся в колонках. Давайте это проверим."
   ]
  },
  {
   "cell_type": "markdown",
   "id": "66532f53",
   "metadata": {},
   "source": [
    "Примените DISTINCT сразу к двум колонкам таблицы `courier_actions` и отберите уникальные пары значений courier_id и order_id. Результат отсортируйте по двум колонкам по возрастанию сначала id курьера, затем id заказа.\n",
    "\n",
    "Поля в результирующей таблице: courier_id, order_id"
   ]
  },
  {
   "cell_type": "code",
   "execution_count": null,
   "id": "7c1db725",
   "metadata": {},
   "outputs": [],
   "source": [
    "SELECT DISTINCT courier_id, order_id\n",
    "  FROM courier_actions\n",
    " ORDER BY courier_id,\n",
    "          order_id"
   ]
  },
  {
   "cell_type": "markdown",
   "id": "4c14a955",
   "metadata": {},
   "source": [
    "### Задача 3"
   ]
  },
  {
   "cell_type": "markdown",
   "id": "64bd04cd",
   "metadata": {},
   "source": [
    "Посчитайте максимальную и минимальную цены товаров в таблице `products`. Поля назовите соответственно max_price, min_price.\n",
    "\n",
    "Поля в результирующей таблице: max_price, min_price"
   ]
  },
  {
   "cell_type": "code",
   "execution_count": null,
   "id": "493221a2",
   "metadata": {},
   "outputs": [],
   "source": [
    "SELECT MAX(price) AS max_price,\n",
    "       MIN(price) AS min_price\n",
    "  FROM products"
   ]
  },
  {
   "cell_type": "markdown",
   "id": "08a85896",
   "metadata": {},
   "source": [
    "### Задача 4"
   ]
  },
  {
   "cell_type": "markdown",
   "id": "00c50a6b",
   "metadata": {},
   "source": [
    "Также при подсчёте количества записей иногда вместо наименования колонки в качестве атрибута функции `COUNT` используют звёздочку «*».  \n",
    "Однако важно учитывать один нюанс: запрос со звёздочкой возвращает количество вообще всех записей в таблице, а запрос с указанием столбца — количество тех записей, где в заданном столбце значения не являются `NULL`."
   ]
  },
  {
   "cell_type": "markdown",
   "id": "9c4e1912",
   "metadata": {},
   "source": [
    "Как вы помните, в таблице `users` у некоторых пользователей не были указаны их даты рождения.\n",
    "\n",
    "Посчитайте в одном запросе количество всех записей в таблице и количество только тех записей, для которых в колонке `birth_date` указана дата рождения.\n",
    "\n",
    "Колонку с общим числом записей назовите `dates`, а колонку с записями без пропусков — `dates_not_null`.\n",
    "\n",
    "Поля в результирующей таблице: dates, dates_not_null"
   ]
  },
  {
   "cell_type": "code",
   "execution_count": null,
   "id": "766df3e3",
   "metadata": {},
   "outputs": [],
   "source": [
    "SELECT COUNT(*) AS dates,\n",
    "       COUNT(birth_date) AS dates_not_null \n",
    "  FROM users "
   ]
  },
  {
   "cell_type": "markdown",
   "id": "50db12b7",
   "metadata": {},
   "source": [
    "### Задача 5"
   ]
  },
  {
   "cell_type": "markdown",
   "id": "89e1b883",
   "metadata": {},
   "source": [
    "Посчитайте количество всех значений в колонке `user_id` в таблице `user_actions`, а также количество уникальных значений в этой колонке (т.е. количество уникальных пользователей сервиса).\n",
    "\n",
    "Колонку с первым полученным значением назовите `users`, а колонку со вторым — `unique_users`.\n",
    "\n",
    "Поля в результирующей таблице: users, unique_users"
   ]
  },
  {
   "cell_type": "code",
   "execution_count": null,
   "id": "992c08f4",
   "metadata": {},
   "outputs": [],
   "source": [
    "SELECT COUNT(user_id) AS users,\n",
    "       COUNT(DISTINCT user_id) AS unique_users \n",
    "  FROM user_actions "
   ]
  },
  {
   "cell_type": "markdown",
   "id": "3aa28b5e",
   "metadata": {},
   "source": [
    "### Задача 6"
   ]
  },
  {
   "cell_type": "markdown",
   "id": "6da1bc2e",
   "metadata": {},
   "source": [
    "Посчитайте количество курьеров `женского пола` в таблице `couriers`. Полученный столбец назовите `couriers_count`.\n",
    "\n",
    "Поле в результирующей таблице: couriers_count"
   ]
  },
  {
   "cell_type": "code",
   "execution_count": null,
   "id": "775090ad",
   "metadata": {},
   "outputs": [],
   "source": [
    "SELECT COUNT(courier_id) AS couriers_count\n",
    "  FROM couriers\n",
    " WHERE sex = 'female'"
   ]
  },
  {
   "cell_type": "markdown",
   "id": "81a762d6",
   "metadata": {},
   "source": [
    "### Задача 7"
   ]
  },
  {
   "cell_type": "markdown",
   "id": "f65e060b",
   "metadata": {},
   "source": [
    "Рассчитайте время, когда были совершены первая и последняя доставки заказов в таблице `courier_actions`.\n",
    "\n",
    "Колонку с временем первой доставки назовите `first_delivery`, а колонку с временем последней — `last_delivery`.\n",
    "\n",
    "Поля в результирующей таблице: first_delivery, last_delivery"
   ]
  },
  {
   "cell_type": "code",
   "execution_count": null,
   "id": "47cc5ead",
   "metadata": {},
   "outputs": [],
   "source": [
    "SELECT MIN(time) AS first_delivery,\n",
    "       MAX(time) AS last_delivery\n",
    "  FROM courier_actions \n",
    " WHERE action = 'deliver_order'"
   ]
  },
  {
   "cell_type": "markdown",
   "id": "1e7a229e",
   "metadata": {},
   "source": [
    "### Задача 8"
   ]
  },
  {
   "cell_type": "markdown",
   "id": "42c56afb",
   "metadata": {},
   "source": [
    "Представьте, что один из пользователей сервиса сделал заказ, в который вошли одна пачка сухариков, одна пачка чипсов и один энергетический напиток. Посчитайте стоимость такого заказа.\n",
    "\n",
    "Колонку с рассчитанной стоимостью заказа назовите `order_price`.\n",
    "\n",
    "Для расчётов используйте таблицу `products`.\n",
    "\n",
    "Поле в результирующей таблице: order_price"
   ]
  },
  {
   "cell_type": "code",
   "execution_count": null,
   "id": "530bac2a",
   "metadata": {},
   "outputs": [],
   "source": [
    "SELECT SUM(price) AS order_price\n",
    "  FROM products\n",
    " WHERE name in ('сухарики', 'чипсы', 'энергетический напиток')"
   ]
  },
  {
   "cell_type": "markdown",
   "id": "2947b957",
   "metadata": {},
   "source": [
    "### Задача 9"
   ]
  },
  {
   "cell_type": "markdown",
   "id": "14026edd",
   "metadata": {},
   "source": [
    "Теперь решим ещё одну задачу на агрегацию с фильтрацией и заодно познакомимся с новой функцией `array_length`, которая вычисляет количество элементов в массиве (длину массива). \n",
    "\n",
    "Как вы помните, в таблице `orders` содержимое заказов представлено в виде списков товаров. Чтобы посчитать количество товаров в заказе, можно как раз воспользоваться функцией `array_length`. Записывается она так:"
   ]
  },
  {
   "cell_type": "code",
   "execution_count": null,
   "id": "33409a9b",
   "metadata": {},
   "outputs": [],
   "source": [
    "SELECT array_length(ARRAY[1,2,3], 1)\n",
    "\n",
    "Результат:\n",
    "3"
   ]
  },
  {
   "cell_type": "markdown",
   "id": "1074faa9",
   "metadata": {},
   "source": [
    "Синтаксис может показаться вам немного сложным, но это только на первый взгляд! Давайте разберёмся. \n",
    "\n",
    "`ARRAY[1,2,3]` — это некоторый список из трёх значений. Единица в качестве второго аргумента — это размерность массива, по которой считается его длина. Так как список у нас одноразмерный (просто список значений), то выбор у нас невелик — можем указать только первую размерность.\n",
    "\n",
    "Если бы у нас была таблица `N x N`, в которой были бы и строки, и столбцы, то размерности было бы две и тогда мы могли бы указать либо первую, либо вторую размерность. Обратите внимание на разный результат вычислений:"
   ]
  },
  {
   "cell_type": "code",
   "execution_count": null,
   "id": "2643baf4",
   "metadata": {},
   "outputs": [],
   "source": [
    "SELECT array_length(ARRAY[[1,2], [3,4], [5,6]], 1)\n",
    "\n",
    "Результат:\n",
    "3\n",
    "\n",
    "SELECT array_length(ARRAY[[1,2], [3,4], [5,6]], 2)\n",
    "\n",
    "Результат:\n",
    "2"
   ]
  },
  {
   "cell_type": "markdown",
   "id": "4ec15a8d",
   "metadata": {},
   "source": [
    "В примере выше количество списков внутри основного списка — это количество строк в таблице, а количество элементов внутри каждого внутреннего списка — это количество столбцов."
   ]
  },
  {
   "cell_type": "markdown",
   "id": "812aeebf",
   "metadata": {},
   "source": [
    "Разумеется, на месте массива можно указывать имя колонки, которая содержит массивы (как в нашем случае):"
   ]
  },
  {
   "cell_type": "code",
   "execution_count": null,
   "id": "c4d9e3a6",
   "metadata": {},
   "outputs": [],
   "source": [
    "SELECT array_length(column, 1)\n",
    "  FROM table"
   ]
  },
  {
   "cell_type": "markdown",
   "id": "deda3af4",
   "metadata": {},
   "source": [
    "Посчитайте количество заказов в таблице `orders` с `девятью и более товарами`. Для этого воспользуйтесь функцией `array_length`, отфильтруйте данные по количеству товаров в заказе и проведите агрегацию. Полученный столбец назовите `orders`.\n",
    "\n",
    "Поле в результирующей таблице: orders"
   ]
  },
  {
   "cell_type": "code",
   "execution_count": null,
   "id": "6421b3cb",
   "metadata": {},
   "outputs": [],
   "source": [
    "SELECT COUNT(order_id) AS orders\n",
    "  FROM orders\n",
    " WHERE ARRAY_LENGTH(product_ids, 1) >= 9"
   ]
  },
  {
   "cell_type": "markdown",
   "id": "32f51f8a",
   "metadata": {},
   "source": [
    "### Задача 10"
   ]
  },
  {
   "cell_type": "markdown",
   "id": "4fed4b95",
   "metadata": {},
   "source": [
    "Функция `AGE` возвращает разницу между двумя значениями в формате `TIMESTAMP`. При этом из первого значения вычитается второе, а сама разница получается в формате `INTERVAL`:"
   ]
  },
  {
   "cell_type": "code",
   "execution_count": null,
   "id": "b13d8d5d",
   "metadata": {},
   "outputs": [],
   "source": [
    "SELECT AGE('2022-12-12', '2021-11-10')\n",
    "\n",
    "Результат:\n",
    "397 days, 0:00:00"
   ]
  },
  {
   "cell_type": "markdown",
   "id": "b2b8a6de",
   "metadata": {},
   "source": [
    "И ещё один нюанс: чтобы результат отображался не в виде количества дней, а в более удобном формате, можно переводить результат вычислений в тип `VARCHAR`."
   ]
  },
  {
   "cell_type": "markdown",
   "id": "e0180b80",
   "metadata": {},
   "source": [
    "С помощью функции `AGE` и агрегирующей функции рассчитайте возраст самого молодого курьера мужского пола в таблице `couriers`. Возраст измерьте количеством лет, месяцев и дней (как в примере) и переведите его в тип VARCHAR.  В качестве даты, относительно которой считать возраст, используйте свою текущую дату (либо не указывайте её вовсе, как показано в примерах). Полученную колонку со значением возраста назовите min_age.\n",
    "\n",
    "Поле в результирующей таблице: min_age"
   ]
  },
  {
   "cell_type": "code",
   "execution_count": null,
   "id": "ef740e62",
   "metadata": {},
   "outputs": [],
   "source": [
    "SELECT AGE(CURRENT_DATE, MAX(birth_date))::VARCHAR AS min_age\n",
    "  FROM couriers\n",
    " WHERE sex = 'male'"
   ]
  },
  {
   "cell_type": "markdown",
   "id": "c93b1afe",
   "metadata": {},
   "source": [
    "### Задача 11"
   ]
  },
  {
   "cell_type": "markdown",
   "id": "e5e50a23",
   "metadata": {},
   "source": [
    "Посчитайте стоимость заказа, в котором будут три пачки сухариков, две пачки чипсов и один энергетический напиток. Колонку с рассчитанной стоимостью заказа назовите `order_price`.\n",
    "\n",
    "Для расчётов используйте таблицу `products`.\n",
    "\n",
    "Поле в результирующей таблице: order_price"
   ]
  },
  {
   "cell_type": "code",
   "execution_count": null,
   "id": "45c0e06b",
   "metadata": {},
   "outputs": [],
   "source": [
    "SELECT SUM(CASE WHEN name = 'сухарики' THEN 3 * price\n",
    "                WHEN name = 'чипсы' THEN 2 * price\n",
    "                WHEN name = 'энергетический напиток' THEN price\n",
    "                ELSE 0 END) AS order_price\n",
    "  FROM products"
   ]
  },
  {
   "cell_type": "markdown",
   "id": "71cdc16a",
   "metadata": {},
   "source": [
    "### Задача 12"
   ]
  },
  {
   "cell_type": "markdown",
   "id": "8dd494f0",
   "metadata": {},
   "source": [
    "Давайте ненадолго вернёмся к нашим напиткам и оператору `LIKE`.\n",
    "\n",
    "Рассчитайте `среднюю цену товаров` в таблице `products`, в названиях которых присутствуют слова `«чай»` или `«кофе»`. Любым известным способом исключите из расчёта `«иван-чай»` и `«чайный гриб»`. Среднюю цену округлите `до двух знаков после запятой`. Столбец с полученным значением назовите `avg_price`.\n",
    "\n",
    "Поле в результирующей таблице: avg_price"
   ]
  },
  {
   "cell_type": "code",
   "execution_count": null,
   "id": "2f6c0275",
   "metadata": {},
   "outputs": [],
   "source": [
    "SELECT ROUND(avg(price), 2) AS avg_price\n",
    "  FROM products\n",
    " WHERE name NOT LIKE '%иван%' AND \n",
    "       (name LIKE '%чай %' OR \n",
    "       name LIKE '%кофе%')"
   ]
  },
  {
   "cell_type": "markdown",
   "id": "11e6bd22",
   "metadata": {},
   "source": [
    "### Задача 13"
   ]
  },
  {
   "cell_type": "markdown",
   "id": "199add48",
   "metadata": {},
   "source": [
    "Воспользуйтесь функцией `AGE` и рассчитайте разницу в возрасте между самым старым и самым молодым пользователями мужского пола в таблице `users`. \n",
    "\n",
    "Разницу в возрасте выразите количеством лет, месяцев и дней, переведя её в тип `VARCHAR`. \n",
    "\n",
    "Колонку с посчитанным значением назовите `age_diff`.\n",
    "\n",
    "Поле в результирующей таблице: age_diff"
   ]
  },
  {
   "cell_type": "code",
   "execution_count": null,
   "id": "409f6153",
   "metadata": {},
   "outputs": [],
   "source": [
    "SELECT AGE(MAX(birth_date), MIN(birth_date))::VARCHAR AS age_diff\n",
    "  FROM users\n",
    " WHERE sex = 'male'"
   ]
  },
  {
   "cell_type": "markdown",
   "id": "011fb7dd",
   "metadata": {},
   "source": [
    "### Задача 14"
   ]
  },
  {
   "cell_type": "markdown",
   "id": "105a404f",
   "metadata": {},
   "source": [
    "Рассчитайте среднее количество товаров в заказах из таблицы `orders`, которые пользователи оформляли по выходным дням (суббота и воскресенье) в течение всего времени работы сервиса.\n",
    "\n",
    "Полученное значение округлите до двух знаков после запятой. Колонку с ним назовите `avg_order_size`.\n",
    "\n",
    "Поле в результирующей таблице: avg_order_size"
   ]
  },
  {
   "cell_type": "code",
   "execution_count": null,
   "id": "4b7d2ac9",
   "metadata": {},
   "outputs": [],
   "source": [
    "SELECT ROUND(AVG(ARRAY_LENGTH(product_ids, 1)), 2) AS avg_order_size\n",
    "  FROM orders\n",
    " WHERE DATE_PART('dow', creation_time) = 0 OR \n",
    "       DATE_PART('dow', creation_time) = 6"
   ]
  },
  {
   "cell_type": "markdown",
   "id": "d430c8c4",
   "metadata": {},
   "source": [
    "### Задача 15"
   ]
  },
  {
   "cell_type": "markdown",
   "id": "f6162227",
   "metadata": {},
   "source": [
    "На основе данных в таблице `user_actions` посчитайте количество уникальных пользователей сервиса, количество уникальных заказов, поделите одно на другое и выясните, сколько заказов приходится на одного пользователя.\n",
    "\n",
    "В результирующей таблице отразите все три значения — поля назовите соответственно `unique_users`, `unique_orders`, `orders_per_user`.\n",
    "\n",
    "Показатель числа заказов на пользователя округлите до двух знаков после запятой.\n",
    "\n",
    "Поля в результирующей таблице: unique_users, unique_orders, orders_per_user\n"
   ]
  },
  {
   "cell_type": "markdown",
   "id": "797467ca",
   "metadata": {},
   "source": [
    "Пояснение:\n",
    "\n",
    "Важно: чтобы получить корректный результат деления, необходимо хотя бы одно из значений предварительно привести к типу `DECIMAL`. Иначе результатом деления целого числа на другое целое число будет тоже целое число."
   ]
  },
  {
   "cell_type": "code",
   "execution_count": null,
   "id": "58ce5964",
   "metadata": {},
   "outputs": [],
   "source": [
    "SELECT COUNT(DISTINCT user_id) AS unique_users,\n",
    "       COUNT(DISTINCT order_id) AS unique_orders,\n",
    "       ROUND(COUNT(DISTINCT order_id)::DECIMAL / COUNT(DISTINCT user_id)::DECIMAL, 2) AS orders_per_user\n",
    "  FROM user_actions"
   ]
  },
  {
   "cell_type": "markdown",
   "id": "e45bfa29",
   "metadata": {},
   "source": [
    "### * Задача 16"
   ]
  },
  {
   "cell_type": "markdown",
   "id": "3400c9b2",
   "metadata": {},
   "source": [
    "И напоследок познакомимся с более продвинутым функционалом — агрегатными выражениями с фильтрацией.\n",
    "\n",
    "Если после агрегирующей функции указать ключевое слово `FILTER` и поместить в скобках некоторое условие condition после `WHERE`, то агрегирующей функции на вход будут поданы только те строки, для которых условие фильтра окажется истинным.\n",
    "\n",
    "В общем виде эта конструкция выглядит так:"
   ]
  },
  {
   "cell_type": "code",
   "execution_count": null,
   "id": "e9123d8f",
   "metadata": {},
   "outputs": [],
   "source": [
    "SELECT agg_function(column) FILTER (WHERE condition)\n",
    "  FROM table"
   ]
  },
  {
   "cell_type": "markdown",
   "id": "eda72403",
   "metadata": {},
   "source": [
    "Например, если бы мы захотели посчитать среднюю цену только для товаров категории 'рыба', то запрос выглядел бы так:"
   ]
  },
  {
   "cell_type": "code",
   "execution_count": null,
   "id": "77f0d59d",
   "metadata": {},
   "outputs": [],
   "source": [
    "SELECT AVG(price) FILTER (WHERE category = 'рыба') AS avg_fish_price\n",
    "  FROM table"
   ]
  },
  {
   "cell_type": "markdown",
   "id": "e32a6941",
   "metadata": {},
   "source": [
    "Обратите внимание: это очень похоже на обычную фильтрацию с агрегацией, которую мы рассматривали в предыдущих задачах, только в данном случае условие на отбор записей указывается сразу в блоке `SELECT`.\n",
    "Преимущество такой записи в том, что она позволяет проводить расчёты без промежуточных запросов с условиями в блоке `WHERE`."
   ]
  },
  {
   "cell_type": "code",
   "execution_count": null,
   "id": "f8c2cc38",
   "metadata": {},
   "outputs": [],
   "source": [
    "SELECT COUNT(DISTINCT user_id) - COUNT(DISTINCT user_id) FILTER(WHERE action = 'cancel_order') AS users_count\n",
    "  FROM user_actions"
   ]
  },
  {
   "cell_type": "markdown",
   "id": "53db3700",
   "metadata": {},
   "source": [
    "### * Задача 17"
   ]
  },
  {
   "cell_type": "markdown",
   "id": "4e93e2ab",
   "metadata": {},
   "source": [
    "Посчитайте общее количество заказов в таблице orders, количество заказов с пятью и более товарами и найдите долю заказов с пятью и более товарами в общем количестве товаров.\n",
    "\n",
    "В результирующей таблице отразите все три значения — поля назовите соответственно orders, large_orders, large_orders_share.\n",
    "\n",
    "Долю заказов с пятью и более товарами в общем количестве товаров округлите до двух знаков после запятой.\n",
    "\n",
    "Поля в результирующей таблице: orders, large_orders, large_orders_share"
   ]
  },
  {
   "cell_type": "code",
   "execution_count": null,
   "id": "b23220b4",
   "metadata": {},
   "outputs": [],
   "source": [
    "SELECT COUNT(ARRAY_LENGTH(product_ids, 1)) AS orders, \n",
    "       COUNT(product_ids) FILTER(WHERE ARRAY_LENGTH(product_ids, 1) >= 5) AS large_orders, \n",
    "       ROUND(COUNT(product_ids) FILTER(WHERE ARRAY_LENGTH(product_ids, 1) >= 5)::DECIMAL /\n",
    "       COUNT(ARRAY_LENGTH(product_ids, 1)), 2) AS large_orders_share\n",
    "  FROM orders"
   ]
  }
 ],
 "metadata": {
  "kernelspec": {
   "display_name": "Python 3 (ipykernel)",
   "language": "python",
   "name": "python3"
  },
  "language_info": {
   "codemirror_mode": {
    "name": "ipython",
    "version": 3
   },
   "file_extension": ".py",
   "mimetype": "text/x-python",
   "name": "python",
   "nbconvert_exporter": "python",
   "pygments_lexer": "ipython3",
   "version": "3.9.7"
  }
 },
 "nbformat": 4,
 "nbformat_minor": 5
}
