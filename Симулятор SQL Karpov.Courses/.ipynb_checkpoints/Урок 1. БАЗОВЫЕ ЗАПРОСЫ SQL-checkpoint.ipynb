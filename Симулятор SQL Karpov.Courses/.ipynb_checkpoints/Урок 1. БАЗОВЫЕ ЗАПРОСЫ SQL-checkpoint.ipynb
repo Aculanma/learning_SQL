{
 "cells": [
  {
   "cell_type": "markdown",
   "id": "8d3744c5",
   "metadata": {},
   "source": [
    "# Урок 1. БАЗОВЫЕ ЗАПРОСЫ SQL"
   ]
  },
  {
   "cell_type": "markdown",
   "id": "08e219e2",
   "metadata": {},
   "source": [
    "### Задача 1"
   ]
  },
  {
   "cell_type": "markdown",
   "id": "aa0225e4",
   "metadata": {},
   "source": [
    "Первые лекции позади, пора приступать к практике!\n",
    "\n",
    "Давайте для начала напишем самый простой запрос и посмотрим, как выглядит таблица `products`.  \n",
    "\n",
    "Чтобы вывести все записи со значениями во всех колонках, необходимо либо перечислить все колонки в операторе SELECT, либо указать после оператора специальный символ «*».\n",
    "\n",
    "Поля в результирующей таблице: product_id, name, price"
   ]
  },
  {
   "cell_type": "code",
   "execution_count": null,
   "id": "8cf580fb",
   "metadata": {},
   "outputs": [],
   "source": [
    "SELECT product_id, \n",
    "       name, \n",
    "       price\n",
    "  FROM products"
   ]
  },
  {
   "cell_type": "markdown",
   "id": "71e780b5",
   "metadata": {},
   "source": [
    "### Задача 2"
   ]
  },
  {
   "cell_type": "markdown",
   "id": "81c061f4",
   "metadata": {},
   "source": [
    "Выведите все записи из таблицы `products`, отсортировав их по наименованиям товаров в алфавитном порядке, т.е. по возрастанию. Для сортировки используйте оператор ORDER BY.\n",
    "\n",
    "Поля в результирующей таблице: product_id, name, price"
   ]
  },
  {
   "cell_type": "code",
   "execution_count": null,
   "id": "308e673e",
   "metadata": {},
   "outputs": [],
   "source": [
    "SELECT product_id, \n",
    "       name, \n",
    "       price\n",
    "  FROM products\n",
    " ORDER BY name ASC"
   ]
  },
  {
   "cell_type": "markdown",
   "id": "322af5ef",
   "metadata": {},
   "source": [
    "### Задача 3"
   ]
  },
  {
   "cell_type": "markdown",
   "id": "e4fed684",
   "metadata": {},
   "source": [
    "Отсортируйте таблицу `courier_actions` сначала по колонке courier_id по возрастанию id курьера, потом по колонке action (снова по возрастанию), а затем по колонке time, но уже по убыванию — от самого последнего действия к самому первому. Добавьте в запрос оператор LIMIT и выведите только первые 1000 строк результирующей таблицы.\n",
    "\n",
    "Поля в результирующей таблице: courier_id, order_id, action, time"
   ]
  },
  {
   "cell_type": "code",
   "execution_count": null,
   "id": "479f7dd1",
   "metadata": {},
   "outputs": [],
   "source": [
    "SELECT courier_id,\n",
    "       order_id,\n",
    "       action,\n",
    "       time\n",
    "  FROM courier_actions\n",
    " ORDER BY courier_id,\n",
    "          action,\n",
    "          time DESC\n",
    " LIMIT 1000"
   ]
  },
  {
   "cell_type": "markdown",
   "id": "ef45d1cb",
   "metadata": {},
   "source": [
    "### Задача 4"
   ]
  },
  {
   "cell_type": "markdown",
   "id": "c151d723",
   "metadata": {},
   "source": [
    "Определите 5 самых дорогих товаров в таблице `products`, которые доставляет наш сервис. Выведите их наименования и цену.\n",
    "\n",
    "Поля в результирующей таблице: name, price"
   ]
  },
  {
   "cell_type": "code",
   "execution_count": null,
   "id": "2eb5c834",
   "metadata": {},
   "outputs": [],
   "source": [
    "SELECT name, \n",
    "       price\n",
    "  FROM products\n",
    " ORDER BY price DESC\n",
    " LIMIT 5"
   ]
  },
  {
   "cell_type": "markdown",
   "id": "ffffa455",
   "metadata": {},
   "source": [
    "### Задача 5"
   ]
  },
  {
   "cell_type": "markdown",
   "id": "cccef59b",
   "metadata": {},
   "source": [
    "Повторите запрос из предыдущего задания, но теперь колонки name и price переименуйте соответственно в product_name и product_price.\n",
    "\n",
    "Поля в результирующей таблице: product_name, product_price"
   ]
  },
  {
   "cell_type": "code",
   "execution_count": null,
   "id": "2f9c6f12",
   "metadata": {},
   "outputs": [],
   "source": [
    "SELECT name AS product_name, \n",
    "       price AS product_price\n",
    "  FROM products\n",
    " ORDER BY product_price DESC\n",
    " LIMIT 5"
   ]
  },
  {
   "cell_type": "markdown",
   "id": "08054a6c",
   "metadata": {},
   "source": [
    "### Задача 6"
   ]
  },
  {
   "cell_type": "markdown",
   "id": "c41fd56d",
   "metadata": {},
   "source": [
    "Используя операторы `SELECT`, `FROM`, `ORDER BY` и `LIMIT`, а также функцию `LENGTH`, определите `товар с самым длинным названием` в таблице `products`. Выведите его наименование, длину наименования в символах, а также цену этого товара. Колонку с длиной наименования в символах назовите `name_length`.\n",
    "\n",
    "Поля в результирующей таблице: name, name_length, price"
   ]
  },
  {
   "cell_type": "code",
   "execution_count": null,
   "id": "9eeac7e4",
   "metadata": {},
   "outputs": [],
   "source": [
    "SELECT name, \n",
    "       LENGTH(name) AS name_length, \n",
    "       price\n",
    "  FROM products\n",
    " ORDER BY LENGTH(name) DESC\n",
    " LIMIT 1"
   ]
  },
  {
   "cell_type": "markdown",
   "id": "f3a815bc",
   "metadata": {},
   "source": [
    "### Задача 7"
   ]
  },
  {
   "cell_type": "markdown",
   "id": "1f424509",
   "metadata": {},
   "source": [
    "Примените последовательно функции `UPPER` и `SPLIT_PART` к колонке name и преобразуйте наименования товаров в таблице `products` так, чтобы от названий осталось только первое слово, записанное в верхнем регистре. Колонку с новым названием, состоящим из первого слова, назовите `first_word`.\n",
    "\n",
    "В результат включите исходные наименования товаров, новые наименования из первого слова, а также цену товаров. Результат отсортируйте по возрастанию исходного наименования товара в колонке `name`.\n",
    "\n",
    "Поля в результирующей таблице: name, first_word, price"
   ]
  },
  {
   "cell_type": "code",
   "execution_count": null,
   "id": "da744b11",
   "metadata": {},
   "outputs": [],
   "source": [
    "SELECT name, \n",
    "       UPPER(SPLIT_PART(name, ' ', 1)) AS first_word, \n",
    "       price\n",
    "  FROM products\n",
    " ORDER BY name "
   ]
  },
  {
   "cell_type": "markdown",
   "id": "9f5eb21d",
   "metadata": {},
   "source": [
    "### Задача 8"
   ]
  },
  {
   "cell_type": "markdown",
   "id": "18cdda4e",
   "metadata": {},
   "source": [
    "Измените тип колонки price из таблицы `products` на VARCHAR. Выведите только эту колонку.\n",
    "\n",
    "Поле в результирующей таблице: price"
   ]
  },
  {
   "cell_type": "markdown",
   "id": "cf2723e1",
   "metadata": {},
   "source": [
    "Первый способ:"
   ]
  },
  {
   "cell_type": "code",
   "execution_count": null,
   "id": "89e88577",
   "metadata": {},
   "outputs": [],
   "source": [
    "SELECT price::VARCHAR\n",
    "  FROM products"
   ]
  },
  {
   "cell_type": "markdown",
   "id": "2e88afb1",
   "metadata": {},
   "source": [
    "Второй способ:"
   ]
  },
  {
   "cell_type": "code",
   "execution_count": null,
   "id": "d2790bdd",
   "metadata": {},
   "outputs": [],
   "source": [
    "SELECT CAST(price AS varchar)\n",
    "  FROM products"
   ]
  },
  {
   "cell_type": "markdown",
   "id": "5aff76ea",
   "metadata": {},
   "source": [
    "### Задача 9"
   ]
  },
  {
   "cell_type": "markdown",
   "id": "a099a562",
   "metadata": {},
   "source": [
    "Выведите id всех курьеров и их годы рождения из таблицы `couriers`. Новую колонку с годом назовите birth_year. Результат отсортируйте сначала по убыванию года рождения курьера, затем по возрастанию id курьера.\n",
    "\n",
    "Поля в результирующей таблице: courier_id, birth_year"
   ]
  },
  {
   "cell_type": "code",
   "execution_count": null,
   "id": "6cd05ab7",
   "metadata": {},
   "outputs": [],
   "source": [
    "SELECT courier_id,\n",
    "       DATE_part('year', birth_date) AS birth_year\n",
    "  FROM couriers\n",
    " ORDER BY birth_year DESC,\n",
    "          courier_id"
   ]
  },
  {
   "cell_type": "markdown",
   "id": "36accc4e",
   "metadata": {},
   "source": [
    "### Задача 10"
   ]
  },
  {
   "cell_type": "markdown",
   "id": "294de2e7",
   "metadata": {},
   "source": [
    "Как и в предыдущем задании, снова выведите id всех курьеров и их годы рождения, только теперь к извлеченному году примените функцию COALESCE. Укажите параметры функции так, чтобы вместо NULL значений в результат попадало текстовое значение unknown. Названия полей оставьте прежними. Отсортируйте итоговую таблицу сначала по убыванию года рождения курьера, затем по возрастанию id курьера.\n",
    "\n",
    "Поля в результирующей таблице: courier_id, birth_year"
   ]
  },
  {
   "cell_type": "code",
   "execution_count": null,
   "id": "d8baa1fa",
   "metadata": {},
   "outputs": [],
   "source": [
    "SELECT courier_id,\n",
    "       COALESCE(DATE_PART('year', birth_date)::VARCHAR, 'unknown') AS birth_year\n",
    "  FROM couriers\n",
    " ORDER BY birth_year DESC, \n",
    "          courier_id"
   ]
  },
  {
   "cell_type": "markdown",
   "id": "ebdbc904",
   "metadata": {},
   "source": [
    "### Задача 11"
   ]
  },
  {
   "cell_type": "markdown",
   "id": "9621e010",
   "metadata": {},
   "source": [
    "Для первых 200 записей из таблицы `orders` выведите информацию в следующем виде (обратите внимание на пробелы):\n",
    "\n",
    "Заказ № [id_заказа] создан [дата]\n",
    "\n",
    "Полученную колонку назовите order_info.\n",
    "\n",
    "Пример вывода: \n",
    "\n",
    "Заказ № 65 создан 2022-09-01"
   ]
  },
  {
   "cell_type": "code",
   "execution_count": null,
   "id": "bbed1f0e",
   "metadata": {},
   "outputs": [],
   "source": [
    "SELECT CONCAT('Заказ № ', order_id, ' создан ', date(creation_time)) AS order_info\n",
    "  FROM orders \n",
    " LIMIT 200"
   ]
  },
  {
   "cell_type": "markdown",
   "id": "bd634157",
   "metadata": {},
   "source": [
    "### Задача 12"
   ]
  },
  {
   "cell_type": "markdown",
   "id": "364d85eb",
   "metadata": {},
   "source": [
    "Давайте представим, что по какой-то необъяснимой причине мы вдруг решили в одночасье повысить цену всех товаров в таблице `products` на 5%. Выведите наименования всех товаров, их старую и новую цену. Колонку с новой ценой назовите new_price. Результат отсортируйте по убыванию значений в новой колонке.\n",
    "\n",
    "Поля в результирующей таблице: name, price, new_price"
   ]
  },
  {
   "cell_type": "code",
   "execution_count": null,
   "id": "250ddbf7",
   "metadata": {},
   "outputs": [],
   "source": [
    "SELECT name,\n",
    "       price,\n",
    "       price*1.05 AS new_price\n",
    "  FROM products\n",
    " ORDER BY new_price DESC"
   ]
  },
  {
   "cell_type": "markdown",
   "id": "639e6555",
   "metadata": {},
   "source": [
    "### Задача 13"
   ]
  },
  {
   "cell_type": "markdown",
   "id": "5809b53a",
   "metadata": {},
   "source": [
    "Вновь, как и в прошлом задании, повысьте цену всех товаров на 5%, только теперь к колонке с новой ценой примените функцию ROUND. Выведите id и наименование товаров, их старую цену, а также новую цену с округлением. Новую цену округлите до одного знака после запятой, но тип данных не меняйте. Колонку с новой ценой снова назовите new_price. Результат отсортируйте сначала по убыванию новой цены, затем по возрастанию id товара.\n",
    "\n",
    "Поля в результирующей таблице: product_id, name, price, new_price"
   ]
  },
  {
   "cell_type": "code",
   "execution_count": null,
   "id": "4dabbbf1",
   "metadata": {},
   "outputs": [],
   "source": [
    "SELECT product_id,\n",
    "       name,\n",
    "       price,\n",
    "       ROUND(price*1.05, 1) AS new_price\n",
    "  FROM products\n",
    " ORDER BY new_price DESC,\n",
    "          product_id"
   ]
  },
  {
   "cell_type": "markdown",
   "id": "f4f6ef7d",
   "metadata": {},
   "source": [
    "### Задача 14"
   ]
  },
  {
   "cell_type": "markdown",
   "id": "42c7c7b0",
   "metadata": {},
   "source": [
    "Повысьте цену на 5% только на те товары, цена которых превышает 100 рублей. Цену остальных товаров оставьте без изменений. Также не повышайте цену на икру, которая и так стоит 800 рублей. Выведите id и наименования всех товаров, их старую и новую цену. Цену округлять не нужно. Колонку с новой ценой снова назовите new_price. Результат отсортируйте сначала по убыванию новой цены, затем по возрастанию id товара.\n",
    "\n",
    "Поля в результирующей таблице: product_id, name, price, new_price"
   ]
  },
  {
   "cell_type": "code",
   "execution_count": null,
   "id": "122dd286",
   "metadata": {},
   "outputs": [],
   "source": [
    "SELECT product_id, name, price,\n",
    "       CASE WHEN name = 'икра' THEN price\n",
    "            WHEN name != 'икра' AND price > 100 THEN price*1.05\n",
    "            ELSE price\n",
    "            END AS new_price\n",
    "FROM products\n",
    "ORDER BY new_price DESC,\n",
    "         product_id"
   ]
  },
  {
   "cell_type": "markdown",
   "id": "b078f1f4",
   "metadata": {},
   "source": [
    "### Задача 15"
   ]
  },
  {
   "cell_type": "markdown",
   "id": "aa6ccb6c",
   "metadata": {},
   "source": [
    "Вычислите НДС каждого товара в таблице `products` и рассчитайте цену без учёта НДС. Выведите всю информацию о товарах, включая сумму налога и цену без его учёта. Колонки с суммой налога и ценой без НДС назовите соответственно tax и price_before_tax. Округлите значения в этих колонках до двух знаков после запятой. Результат отсортируйте сначала по убыванию цены товара без учёта НДС, затем по возрастанию id товара.\n",
    "\n",
    "Поля в результирующей таблице: product_id, name, price, tax, price_before_tax"
   ]
  },
  {
   "cell_type": "code",
   "execution_count": null,
   "id": "796c4104",
   "metadata": {},
   "outputs": [],
   "source": [
    "SELECT product_id, \n",
    "       name, \n",
    "       price, \n",
    "       ROUND(price - price/1.2, 2) AS tax, \n",
    "       ROUND(price/1.2, 2)  AS price_before_tax\n",
    "  FROM products\n",
    " ORDER BY price_before_tax DESC,\n",
    "          product_id"
   ]
  }
 ],
 "metadata": {
  "kernelspec": {
   "display_name": "Python 3 (ipykernel)",
   "language": "python",
   "name": "python3"
  },
  "language_info": {
   "codemirror_mode": {
    "name": "ipython",
    "version": 3
   },
   "file_extension": ".py",
   "mimetype": "text/x-python",
   "name": "python",
   "nbconvert_exporter": "python",
   "pygments_lexer": "ipython3",
   "version": "3.9.7"
  }
 },
 "nbformat": 4,
 "nbformat_minor": 5
}
