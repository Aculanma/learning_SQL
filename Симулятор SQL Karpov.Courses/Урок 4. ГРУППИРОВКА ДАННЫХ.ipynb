{
 "cells": [
  {
   "cell_type": "markdown",
   "id": "6c9121d8",
   "metadata": {},
   "source": [
    "# Урок 4. ГРУППИРОВКА ДАННЫХ"
   ]
  },
  {
   "cell_type": "markdown",
   "id": "9fcf5be8",
   "metadata": {},
   "source": [
    "### Задача 1"
   ]
  },
  {
   "cell_type": "markdown",
   "id": "20b0b342",
   "metadata": {},
   "source": [
    "С помощью группировки посчитайте количество курьеров мужского и женского пола в таблице `couriers`. Новую колонку с числом курьером назовите `couriers_count`. Результат отсортируйте по этой колонке по возрастанию.\n",
    "\n",
    "Поля в результирующей таблице: sex, couriers_count"
   ]
  },
  {
   "cell_type": "code",
   "execution_count": null,
   "id": "bd1c5d5e",
   "metadata": {},
   "outputs": [],
   "source": [
    "SELECT sex, \n",
    "       COUNT(courier_id) AS couriers_count\n",
    "  FROM couriers\n",
    " GROUP BY sex\n",
    " ORDER BY couriers_count "
   ]
  },
  {
   "cell_type": "markdown",
   "id": "510a15fb",
   "metadata": {},
   "source": [
    "### Задача 2"
   ]
  },
  {
   "cell_type": "markdown",
   "id": "84165de4",
   "metadata": {},
   "source": [
    "Посчитайте максимальный возраст пользователей мужского и женского пола в таблице `users`. Возраст измерьте количеством полных лет. Новую колонку с возрастом назовите max_age. Результат отсортируйте по новой колонке по возрастанию возраста.\n",
    "\n",
    "Поля в результирующей таблице: sex, max_age\n",
    "\n"
   ]
  },
  {
   "cell_type": "code",
   "execution_count": null,
   "id": "b72f05be",
   "metadata": {},
   "outputs": [],
   "source": [
    "SELECT sex,\n",
    "       DATE_PART('year', MAX(AGE(birth_date))) AS max_age\n",
    "  FROM users\n",
    " GROUP BY sex\n",
    " ORDER BY max_age"
   ]
  },
  {
   "cell_type": "markdown",
   "id": "f294d9da",
   "metadata": {},
   "source": [
    "### Задача 3"
   ]
  },
  {
   "cell_type": "markdown",
   "id": "3265ec05",
   "metadata": {},
   "source": [
    "Разбейте пользователей из таблицы `users` на группы по возрасту (возраст измеряем количеством полных лет) и посчитайте число пользователей каждого возраста. Колонку с возрастом назовите `age`, а колонку с числом пользователей — `users_count`. Отсортируйте полученный результат по возрастанию возраста. Не забудем и про тех пользователей, у которых вместо возраста будет пропуск, для этой группы также подсчитаем число пользователей.\n",
    "\n",
    "Поля в результирующей таблице: age, users_count"
   ]
  },
  {
   "cell_type": "code",
   "execution_count": null,
   "id": "391fa575",
   "metadata": {},
   "outputs": [],
   "source": [
    "SELECT date_part('year', age(birth_date)) AS age, \n",
    "       COUNT(user_id) AS users_count\n",
    "  FROM users\n",
    " GROUP BY age\n",
    " ORDER BY age"
   ]
  },
  {
   "cell_type": "markdown",
   "id": "7063bfbc",
   "metadata": {},
   "source": [
    "### Задача 4"
   ]
  },
  {
   "cell_type": "markdown",
   "id": "b0bcc18a",
   "metadata": {},
   "source": [
    "Вновь разбейте пользователей из таблицы `users` на группы по возрасту (возраст измеряем количеством полных лет), только теперь добавьте в группировку пол пользователя. В результате в каждой возрастной группе должно появиться ещё по две подгруппы с полом. В каждой такой подгруппе посчитайте число пользователей.\n",
    "\n",
    "Все `NULL` значения в колонке `birth_date` заранее отфильтруйте с помощью `WHERE`. Колонку с возрастом назовите `age`, а колонку с числом пользователей — `users_count`, имя колонки с полом оставьте без изменений. Отсортируйте полученную таблицу сначала по колонке с возрастом по возрастанию, затем по колонке с полом — тоже по возрастанию.\n",
    "\n",
    "Поля в результирующей таблице: age, sex, users_count"
   ]
  },
  {
   "cell_type": "code",
   "execution_count": null,
   "id": "d971c5ef",
   "metadata": {},
   "outputs": [],
   "source": [
    "SELECT DATE_PART('year', AGE(birth_date)) AS age, \n",
    "       sex, \n",
    "       COUNT(user_id) AS users_count\n",
    "  FROM users\n",
    " WHERE birth_date IS NOT NULL\n",
    " GROUP BY sex, age\n",
    " ORDER BY age, sex"
   ]
  },
  {
   "cell_type": "markdown",
   "id": "cd8b2cf0",
   "metadata": {},
   "source": [
    "### Задача 5"
   ]
  },
  {
   "cell_type": "markdown",
   "id": "b9f7016d",
   "metadata": {},
   "source": [
    "Используя функцию `DATE_TRUNC`, посчитайте, сколько заказов было сделано и сколько было отменено в каждом месяце. Расчёты проводите по таблице `user_actions`. Колонку с усечённой датой назовите `month`, колонку с количеством заказов — `orders_count`. Результат отсортируйте сначала по месяцам — по возрастанию, затем по типу действия — тоже по возрастанию.\n",
    "\n",
    "Поля в результирующей таблице: month, action, orders_count"
   ]
  },
  {
   "cell_type": "code",
   "execution_count": null,
   "id": "a53f01e5",
   "metadata": {},
   "outputs": [],
   "source": [
    "SELECT DATE_TRUNC('month', time) AS month, \n",
    "       action, \n",
    "       COUNT(order_id) AS orders_count\n",
    "  FROM user_actions\n",
    " GROUP BY month, action\n",
    " ORDER BY month, action"
   ]
  },
  {
   "cell_type": "markdown",
   "id": "5755bd94",
   "metadata": {},
   "source": [
    "### Задача 6"
   ]
  },
  {
   "cell_type": "markdown",
   "id": "39b5086f",
   "metadata": {},
   "source": [
    "Посчитайте количество товаров в каждом заказе из таблицы `orders`, примените к этим значениям группировку и посчитайте количество заказов в каждой группе. Выведите две колонки: количество товаров в заказе и число заказов с таким количеством. Колонки назовите соответственно `order_size` и `orders_count`. Результат отсортируйте по возрастанию числа товаров в заказе.\n",
    "\n",
    "Поля в результирующей таблице: order_size, orders_count"
   ]
  },
  {
   "cell_type": "code",
   "execution_count": null,
   "id": "80d3ce80",
   "metadata": {},
   "outputs": [],
   "source": [
    "SELECT ARRAY_LENGTH(product_ids, 1) AS order_size, \n",
    "       COUNT(order_id) AS orders_count\n",
    "  FROM orders\n",
    " GROUP BY order_size\n",
    " ORDER BY order_size"
   ]
  },
  {
   "cell_type": "markdown",
   "id": "e02f90db",
   "metadata": {},
   "source": [
    "### Задача 7"
   ]
  },
  {
   "cell_type": "markdown",
   "id": "bb50574f",
   "metadata": {},
   "source": [
    "Дополните предыдущий запрос оператором `HAVING` и отберите только те размеры заказов, общее число которых превышает 5000. Вновь выведите две колонки: количество товаров в заказе и число заказов с таким количеством. Колонки назовите соответственно `order_size` и `orders_count`. Результат отсортируйте по возрастанию числа товаров в заказе.\n",
    "\n",
    "Поля в результирующей таблице: order_size, orders_count"
   ]
  },
  {
   "cell_type": "code",
   "execution_count": null,
   "id": "b9b9b689",
   "metadata": {},
   "outputs": [],
   "source": [
    "SELECT ARRAY_LENGTH(product_ids, 1) AS order_size, \n",
    "       COUNT(order_id) AS orders_count\n",
    "  FROM orders\n",
    " GROUP BY order_size\n",
    "HAVING COUNT(order_id) > 5000\n",
    " ORDER BY order_size"
   ]
  },
  {
   "cell_type": "markdown",
   "id": "c91e32fd",
   "metadata": {},
   "source": [
    "### Задача 8"
   ]
  },
  {
   "cell_type": "markdown",
   "id": "1903a9ea",
   "metadata": {},
   "source": [
    "Из таблицы `courier_actions` отберите id трёх курьеров, доставивших наибольшее количество заказов в августе 2022 года. Выведите две колонки — id курьера и число доставленных заказов. Колонку с числом доставленных заказов назовите `delivered_orders`. Отсортируйте результат по убыванию `delivered_orders`.\n",
    "\n",
    "Поля в результирующей таблице: courier_id, delivered_orders"
   ]
  },
  {
   "cell_type": "code",
   "execution_count": null,
   "id": "70218e9e",
   "metadata": {},
   "outputs": [],
   "source": [
    "SELECT courier_id,\n",
    "       count(distinct order_id) AS delivered_orders\n",
    "  FROM courier_actions\n",
    " WHERE action = 'deliver_order'\n",
    "       AND date_part('year', time) = 2022\n",
    "       AND date_part('month', time) = 8\n",
    " GROUP BY courier_id\n",
    " ORDER BY delivered_orders DESC \n",
    " LIMIT 3"
   ]
  },
  {
   "cell_type": "markdown",
   "id": "d02c61be",
   "metadata": {},
   "source": [
    "### Задача 9"
   ]
  },
  {
   "cell_type": "markdown",
   "id": "790a65c7",
   "metadata": {},
   "source": [
    "А теперь отберите id только тех курьеров, которые в сентябре 2022 года успели доставить только по одному заказу. Таблица та же — courier_actions. Вновь выведите две колонки — id курьера и число доставленных заказов. Колонку с числом заказов назовите delivered_orders. Результат отсортируйте по возрастанию id курьера.\n",
    "\n",
    "Поля в результирующей таблице: courier_id, delivered_orders"
   ]
  },
  {
   "cell_type": "code",
   "execution_count": null,
   "id": "22d8a98c",
   "metadata": {},
   "outputs": [],
   "source": [
    "SELECT courier_id, COUNT(DISTINCT order_id) AS delivered_orders\n",
    "  FROM courier_actions\n",
    " WHERE action = 'deliver_order' \n",
    "       AND DATE_PART('year', time) = 2022 \n",
    "       AND DATE_PART('month', time) = 9\n",
    " GROUP BY courier_id\n",
    "HAVING COUNT(DISTINCT order_id) = 1\n",
    " ORDER BY courier_id"
   ]
  },
  {
   "cell_type": "markdown",
   "id": "90f8b760",
   "metadata": {},
   "source": [
    "### Задача 10"
   ]
  },
  {
   "cell_type": "markdown",
   "id": "324a3128",
   "metadata": {},
   "source": [
    "Из таблицы `user_actions` отберите пользователей, у которых последний заказ был создан до 8 сентября 2022 года. Выведите только их id, дату создания заказа выводить не нужно. Результат отсортируйте по возрастанию id пользователя.\n",
    "\n",
    "Поле в результирующей таблице: user_id"
   ]
  },
  {
   "cell_type": "code",
   "execution_count": null,
   "id": "d56d6b35",
   "metadata": {},
   "outputs": [],
   "source": [
    "SELECT user_id\n",
    "  FROM user_actions \n",
    " WHERE action = 'create_order' \n",
    " GROUP BY user_id\n",
    "HAVING MAX(time) < '2022-09-08'\n",
    " ORDER BY user_id"
   ]
  },
  {
   "cell_type": "markdown",
   "id": "bad2a8f5",
   "metadata": {},
   "source": [
    "### * Задача 11"
   ]
  },
  {
   "cell_type": "markdown",
   "id": "7d27a52e",
   "metadata": {},
   "source": [
    "Для каждого пользователя в таблице `user_actions` посчитайте долю отменённых заказов. Выведите две колонки: id пользователя и рассчитанный показатель. Новую колонку с показателем округлите до двух знаков после запятой и назовите `cancel_rate`. Результат отсортируйте по возрастанию id пользователя.\n",
    "\n",
    "Поля в результирующей таблице: user_id, cancel_rate"
   ]
  },
  {
   "cell_type": "code",
   "execution_count": null,
   "id": "59d671f8",
   "metadata": {},
   "outputs": [],
   "source": [
    "SELECT user_id, \n",
    "       ROUND(COUNT(DISTINCT order_id) FILTER (WHERE action = 'cancel_order') / \n",
    "             COUNT(DISTINCT order_id)::DECIMAL, 2) AS cancel_rate\n",
    "  FROM user_actions\n",
    " GROUP BY user_id\n",
    " ORDER BY user_id"
   ]
  },
  {
   "cell_type": "markdown",
   "id": "4c011b0b",
   "metadata": {},
   "source": [
    "### * Задача 12"
   ]
  },
  {
   "cell_type": "markdown",
   "id": "241b2b04",
   "metadata": {},
   "source": [
    "Разбейте пользователей из таблицы `users` на 4 возрастные группы:\n",
    "\n",
    "- от 19 до 24 лет;\n",
    "- от 25 до 29 лет;\n",
    "- от 30 до 35 лет;\n",
    "- от 36 до 41 года.\n",
    "Посчитайте число пользователей, попавших в каждую возрастную группу. Группы назовите соответственно `«19-24»`, `«25-29»`, `«30-35»`, `«36-41»` (без кавычек). Выведите наименования групп и число пользователей в них. Колонку с наименованием групп назовите `group_age`, а колонку с числом пользователей — `users_count`. Отсортируйте полученную таблицу по колонке с наименованием групп по возрастанию.\n",
    "\n",
    "Поля в результирующей таблице: group_age, users_count"
   ]
  },
  {
   "cell_type": "code",
   "execution_count": null,
   "id": "9d702a74",
   "metadata": {},
   "outputs": [],
   "source": [
    "SELECT CASE WHEN DATE_PART('year', AGE(birth_date)) BETWEEN 19 \n",
    "                 AND 24 THEN '19-24'\n",
    "            WHEN DATE_PART('year', AGE(birth_date)) BETWEEN 25 \n",
    "                 AND 29 THEN '25-29'\n",
    "            WHEN DATE_PART('year', AGE(birth_date)) BETWEEN 30 \n",
    "                 AND 35 THEN '30-35'\n",
    "            WHEN DATE_PART('year', AGE(birth_date)) BETWEEN 36 \n",
    "                 AND 41 THEN '36-41' END AS group_age,\n",
    "       COUNT(user_id) AS users_count\n",
    "  FROM users\n",
    " WHERE birth_date IS NOT NULL\n",
    " GROUP BY group_age\n",
    " ORDER BY group_age"
   ]
  }
 ],
 "metadata": {
  "kernelspec": {
   "display_name": "Python 3 (ipykernel)",
   "language": "python",
   "name": "python3"
  },
  "language_info": {
   "codemirror_mode": {
    "name": "ipython",
    "version": 3
   },
   "file_extension": ".py",
   "mimetype": "text/x-python",
   "name": "python",
   "nbconvert_exporter": "python",
   "pygments_lexer": "ipython3",
   "version": "3.9.7"
  }
 },
 "nbformat": 4,
 "nbformat_minor": 5
}
