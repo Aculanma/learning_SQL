{
 "cells": [
  {
   "cell_type": "markdown",
   "id": "806b9fd3",
   "metadata": {},
   "source": [
    "# Урок 2. ФИЛЬТРАЦИЯ ДАННЫХ"
   ]
  },
  {
   "cell_type": "markdown",
   "id": "8dd676db",
   "metadata": {},
   "source": [
    "### Задача 1"
   ]
  },
  {
   "cell_type": "markdown",
   "id": "587316ac",
   "metadata": {},
   "source": [
    "Напишите SQL-запрос к таблице `products` и выведите всю информацию о товарах, цена которых не превышает 100 рублей. Результат отсортируйте по убыванию цены.\n",
    "\n",
    "Поля в результирующей таблице: product_id, name, price"
   ]
  },
  {
   "cell_type": "code",
   "execution_count": null,
   "id": "3812f6fa",
   "metadata": {},
   "outputs": [],
   "source": [
    "SELECT product_id, \n",
    "       name, \n",
    "       price\n",
    "  FROM products\n",
    " WHERE price <= 100\n",
    " ORDER BY price DESC"
   ]
  },
  {
   "cell_type": "markdown",
   "id": "e5105b1a",
   "metadata": {},
   "source": [
    "### Задача 2"
   ]
  },
  {
   "cell_type": "markdown",
   "id": "2b582e32",
   "metadata": {},
   "source": [
    "В таблице `products` найдите все товары, содержащие в своём названии последовательность символов «чай» (без кавычек). Выведите две колонки: id продукта и его название.\n",
    "\n",
    "Поля в результирующей таблице: product_id, name"
   ]
  },
  {
   "cell_type": "code",
   "execution_count": null,
   "id": "5d22075c",
   "metadata": {},
   "outputs": [],
   "source": [
    "SELECT product_id, \n",
    "       name\n",
    "  FROM products\n",
    " WHERE name LIKE '%чай%'"
   ]
  },
  {
   "cell_type": "markdown",
   "id": "9957864c",
   "metadata": {},
   "source": [
    "### Задача 3"
   ]
  },
  {
   "cell_type": "markdown",
   "id": "a41b344e",
   "metadata": {},
   "source": [
    "Выберите из таблицы `products` id и наименования только тех товаров, названия которых начинаются на букву «с» и содержат только одно слово.\n",
    "\n",
    "Поля в результирующей таблице: product_id, name"
   ]
  },
  {
   "cell_type": "code",
   "execution_count": null,
   "id": "d12679a0",
   "metadata": {},
   "outputs": [],
   "source": [
    "SELECT product_id, name\n",
    "  FROM products\n",
    " WHERE name NOT like '% %' AND \n",
    "       name like 'с%'"
   ]
  },
  {
   "cell_type": "markdown",
   "id": "94b11fcb",
   "metadata": {},
   "source": [
    "### Задача 4"
   ]
  },
  {
   "cell_type": "markdown",
   "id": "ee2910ac",
   "metadata": {},
   "source": [
    "Составьте SQL-запрос, который выбирает из таблицы `products` все чаи стоимостью больше 60 рублей и вычисляет для них цену со скидкой в 25%. Скидку в % необходимо указать в отдельном столбце в формате текста, то есть вот так: «25%» (без кавычек). Столбцы со скидкой и новой ценой назовите соответственно discount и price_discounted.\n",
    "\n",
    "Также необходимо любым известным способом избавиться от «чайного гриба»: вряд ли менеджер имел в виду и его, когда ставил нам задачу.\n",
    "\n",
    "Поля в результирующей таблице: product_id, name, price, discount, price_discounted"
   ]
  },
  {
   "cell_type": "code",
   "execution_count": null,
   "id": "fbc46a4b",
   "metadata": {},
   "outputs": [],
   "source": [
    "SELECT product_id,\n",
    "       name,\n",
    "       price,\n",
    "       '25%' AS discount,\n",
    "       price * 0.75 AS price_discounted\n",
    "  FROM products\n",
    " WHERE name LIKE '%чай %'\n",
    "       AND price > 60"
   ]
  },
  {
   "cell_type": "markdown",
   "id": "470993eb",
   "metadata": {},
   "source": [
    "### Задача 5"
   ]
  },
  {
   "cell_type": "markdown",
   "id": "15f1c35a",
   "metadata": {},
   "source": [
    "Из таблицы `user_actions` выведите всю информацию о действиях пользователей с id 170, 200 и 230 за период с 25 августа по 4 сентября 2022 года включительно. Результат отсортируйте по времени совершения действия — от самых поздних действий к самым первым.\n",
    "\n",
    "Поля в результирующей таблице: user_id, order_id, action, time"
   ]
  },
  {
   "cell_type": "code",
   "execution_count": null,
   "id": "c49992ba",
   "metadata": {},
   "outputs": [],
   "source": [
    "SELECT user_id, \n",
    "       order_id, \n",
    "       action,\n",
    "       time\n",
    "  FROM user_actions\n",
    " WHERE user_id IN (170, 200,  230) \n",
    "       AND time BETWEEN '2022-8-25'\n",
    "       AND '2022-9-5'\n",
    " ORDER BY time DESC"
   ]
  },
  {
   "cell_type": "markdown",
   "id": "e2c54184",
   "metadata": {},
   "source": [
    "### Задача 6"
   ]
  },
  {
   "cell_type": "markdown",
   "id": "88fa753f",
   "metadata": {},
   "source": [
    "Напишите SQL-запрос к таблице `couriers` и выведите всю информацию о курьерах, у которых не указан их день рождения. Результат отсортируйте по возрастанию id.\n",
    "\n",
    "Поля в результирующей таблице: birth_date, courier_id, sex"
   ]
  },
  {
   "cell_type": "code",
   "execution_count": null,
   "id": "8bbd177d",
   "metadata": {},
   "outputs": [],
   "source": [
    "SELECT birth_date,\n",
    "       courier_id,\n",
    "       sex\n",
    "  FROM couriers\n",
    " WHERE birth_date IS NULL\n",
    " ORDER BY courier_id"
   ]
  },
  {
   "cell_type": "markdown",
   "id": "872b4db7",
   "metadata": {},
   "source": [
    "### Задача 7"
   ]
  },
  {
   "cell_type": "markdown",
   "id": "1c5952bc",
   "metadata": {},
   "source": [
    "А теперь давайте решим ещё несколько задач на фильтрацию, чтобы точно убедиться, что мы разобрались в этой теме."
   ]
  },
  {
   "cell_type": "markdown",
   "id": "3fdf2f02",
   "metadata": {},
   "source": [
    "Определите id и дату рождения 50 самых молодых пользователей мужского пола из таблицы users.\n",
    "\n",
    "Поле в результирующей таблице: user_id, birth_date"
   ]
  },
  {
   "cell_type": "code",
   "execution_count": null,
   "id": "96c2f7cb",
   "metadata": {},
   "outputs": [],
   "source": [
    "SELECT user_id,\n",
    "       birth_date\n",
    "  FROM users\n",
    " WHERE sex = 'male'\n",
    "       AND birth_date IS NOT NULL\n",
    " ORDER BY birth_date DESC \n",
    " LIMIT 50"
   ]
  },
  {
   "cell_type": "markdown",
   "id": "4872dc58",
   "metadata": {},
   "source": [
    "### Задача 8"
   ]
  },
  {
   "cell_type": "markdown",
   "id": "ff38fd05",
   "metadata": {},
   "source": [
    "Напишите SQL-запрос к таблице `courier_actions`, чтобы узнать id и время доставки последних 10 заказов, доставленных курьером с id 100.\n",
    "\n",
    "Поля в результирующей таблице: order_id, time"
   ]
  },
  {
   "cell_type": "code",
   "execution_count": null,
   "id": "192ed7f2",
   "metadata": {},
   "outputs": [],
   "source": [
    "SELECT order_id,\n",
    "       time \n",
    "  FROM courier_actions\n",
    " WHERE courier_id = 100 \n",
    "       AND action = 'deliver_order'\n",
    " ORDER BY time DESC \n",
    " LIMIT 10"
   ]
  },
  {
   "cell_type": "markdown",
   "id": "a72ce0eb",
   "metadata": {},
   "source": [
    "### Задача 9"
   ]
  },
  {
   "cell_type": "markdown",
   "id": "637aba9b",
   "metadata": {},
   "source": [
    "Из таблицы `user_actions` получите id всех заказов, сделанных пользователями сервиса в августе 2022 года. Результат отсортируйте по возрастанию id заказа.\n",
    "\n",
    "Поле в результирующей таблице: order_id"
   ]
  },
  {
   "cell_type": "code",
   "execution_count": null,
   "id": "e6176093",
   "metadata": {},
   "outputs": [],
   "source": [
    "SELECT order_id\n",
    "  FROM user_actions\n",
    " WHERE DATE_PART('year', time) = 2022\n",
    "       AND DATE_PART('month', time) = 8\n",
    "       AND action = 'create_order'\n",
    " ORDER BY order_id"
   ]
  },
  {
   "cell_type": "markdown",
   "id": "ce70ae76",
   "metadata": {},
   "source": [
    "### Задача 10"
   ]
  },
  {
   "cell_type": "markdown",
   "id": "3e371e9a",
   "metadata": {},
   "source": [
    "Из таблицы `couriers` отберите id всех курьеров, родившихся в период с 1990 по 1995 год включительно. Результат отсортируйте по возрастанию id курьера.\n",
    "\n",
    "Поле в результирующей таблице: courier_id"
   ]
  },
  {
   "cell_type": "code",
   "execution_count": null,
   "id": "b2435ebe",
   "metadata": {},
   "outputs": [],
   "source": [
    "SELECT courier_id\n",
    "  FROM couriers\n",
    " WHERE DATE_PART('year', birth_date) BETWEEN 1990\n",
    "       AND 1995\n",
    " ORDER BY courier_id"
   ]
  },
  {
   "cell_type": "markdown",
   "id": "ba3d5def",
   "metadata": {},
   "source": [
    "### Задача 11"
   ]
  },
  {
   "cell_type": "markdown",
   "id": "193ba279",
   "metadata": {},
   "source": [
    "Из таблицы `user_actions` получите информацию о всех отменах заказов, которые пользователи совершали в течение августа 2022 года по средам с 12:00 до 15:59. Результат отсортируйте по времени отмены заказа — от самых последних отмен к самым первым.\n",
    "\n",
    "Поля в результирующей таблице: user_id, order_id, action, time"
   ]
  },
  {
   "cell_type": "code",
   "execution_count": null,
   "id": "8d9865ad",
   "metadata": {},
   "outputs": [],
   "source": [
    "SELECT user_id,\n",
    "       order_id,\n",
    "       action,\n",
    "       time\n",
    "  FROM user_actions\n",
    " WHERE DATE_PART('year', time) = 2022\n",
    "       AND DATE_PART('month', time) = 8\n",
    "       AND DATE_PART('dow', time) = 3\n",
    "       AND DATE_PART('hour', time) >= 12\n",
    "       AND DATE_PART('hour', time) < 16\n",
    "       AND action = 'cancel_order'\n",
    " ORDER BY time DESC"
   ]
  },
  {
   "cell_type": "markdown",
   "id": "1c902e9f",
   "metadata": {},
   "source": [
    "### Задача 12"
   ]
  },
  {
   "cell_type": "markdown",
   "id": "e79d1f7b",
   "metadata": {},
   "source": [
    "И напоследок давайте вернёмся к нашим налогам.\n",
    "\n",
    "В прошлом уроке мы решили задачу для одного из менеджеров и посчитали НДС каждого товара. Вы долго смотрели на получившиеся расчёты и вас всё-таки замучила совесть: вы точно помните, что на отдельные группы товаров НДС составляет 10%, а не 20%.\n",
    "\n",
    "Поскольку менеджер перестал отвечать на ваши сообщения, вы решили написать напрямую бухгалтеру компании и запросили список товаров, на которые распространяется НДС 10%.\n",
    "\n",
    "Вот какой список вы получили:"
   ]
  },
  {
   "cell_type": "markdown",
   "id": "fb729edd",
   "metadata": {},
   "source": [
    "'сахар', 'сухарики', 'сушки', 'семечки', \n",
    "'масло льняное', 'виноград', 'масло оливковое', \n",
    "'арбуз', 'батон', 'йогурт', 'сливки', 'гречка', \n",
    "'овсянка', 'макароны', 'баранина', 'апельсины', \n",
    "'бублики', 'хлеб', 'горох', 'сметана', 'рыба копченая', \n",
    "'мука', 'шпроты', 'сосиски', 'свинина', 'рис', \n",
    "'масло кунжутное', 'сгущенка', 'ананас', 'говядина', \n",
    "'соль', 'рыба вяленая', 'масло подсолнечное', 'яблоки', \n",
    "'груши', 'лепешка', 'молоко', 'курица', 'лаваш', 'вафли', 'мандарины'"
   ]
  },
  {
   "cell_type": "code",
   "execution_count": null,
   "id": "61130ede",
   "metadata": {},
   "outputs": [],
   "source": [
    "SELECT product_id,\n",
    "       name,\n",
    "       price,\n",
    "       CASE WHEN name IN ('сахар', 'сухарики', 'сушки', 'семечки', \n",
    "                          'масло льняное', 'виноград', 'масло оливковое', \n",
    "                          'арбуз', 'батон', 'йогурт', 'сливки', 'гречка', \n",
    "                          'овсянка', 'макароны', 'баранина', 'апельсины', \n",
    "                          'бублики', 'хлеб', 'горох', 'сметана', 'рыба копченая', \n",
    "                          'мука', 'шпроты', 'сосиски', 'свинина', 'рис', \n",
    "                          'масло кунжутное', 'сгущенка', 'ананас', 'говядина', \n",
    "                          'соль', 'рыба вяленая', 'масло подсолнечное', 'яблоки', \n",
    "                          'груши', 'лепешка', 'молоко', 'курица', 'лаваш', \n",
    "                          'вафли', 'мандарины') THEN ROUND(price - price / 1.1, 2)                                                                                                                                                                                                                                                                                                                                                                                                                                                                                                          2)\n",
    "            ELSE ROUND(price - price / 1.2, 2) \n",
    "            END AS tax,\n",
    "       CASE WHEN name IN ('сахар', 'сухарики', 'сушки', 'семечки', \n",
    "                          'масло льняное', 'виноград', 'масло оливковое', \n",
    "                          'арбуз', 'батон', 'йогурт', 'сливки', 'гречка', \n",
    "                          'овсянка', 'макароны', 'баранина', 'апельсины', \n",
    "                          'бублики', 'хлеб', 'горох', 'сметана', 'рыба копченая', \n",
    "                          'мука', 'шпроты', 'сосиски', 'свинина', 'рис', \n",
    "                          'масло кунжутное', 'сгущенка', 'ананас', 'говядина', \n",
    "                          'соль', 'рыба вяленая', 'масло подсолнечное', 'яблоки', \n",
    "                          'груши', 'лепешка', 'молоко', 'курица', 'лаваш', \n",
    "                          'вафли', 'мандарины') THEN ROUND(price / 1.1, 2)                                                                                                                                                                                                                                                                                                                                                                                                                                                                                                                        2)\n",
    "            ELSE ROUND(price / 1.2, 2) END AS price_before_tax\n",
    "  FROM products\n",
    " ORDER BY price_before_tax DESC, \n",
    "          product_id"
   ]
  }
 ],
 "metadata": {
  "kernelspec": {
   "display_name": "Python 3 (ipykernel)",
   "language": "python",
   "name": "python3"
  },
  "language_info": {
   "codemirror_mode": {
    "name": "ipython",
    "version": 3
   },
   "file_extension": ".py",
   "mimetype": "text/x-python",
   "name": "python",
   "nbconvert_exporter": "python",
   "pygments_lexer": "ipython3",
   "version": "3.9.7"
  }
 },
 "nbformat": 4,
 "nbformat_minor": 5
}
