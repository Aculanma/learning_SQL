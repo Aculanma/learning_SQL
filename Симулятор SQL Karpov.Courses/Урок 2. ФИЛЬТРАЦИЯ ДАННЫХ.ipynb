{
 "cells": [
  {
   "cell_type": "markdown",
   "id": "806b9fd3",
   "metadata": {},
   "source": [
    "# Урок 2. ФИЛЬТРАЦИЯ ДАННЫХ"
   ]
  },
  {
   "cell_type": "markdown",
   "id": "8dd676db",
   "metadata": {},
   "source": [
    "### Задача 1"
   ]
  },
  {
   "cell_type": "markdown",
   "id": "587316ac",
   "metadata": {},
   "source": [
    "Напишите SQL-запрос к таблице `products` и выведите всю информацию о товарах, цена которых не превышает 100 рублей. Результат отсортируйте по убыванию цены.\n",
    "\n",
    "Поля в результирующей таблице: product_id, name, price"
   ]
  },
  {
   "cell_type": "code",
   "execution_count": null,
   "id": "3812f6fa",
   "metadata": {},
   "outputs": [],
   "source": [
    "SELECT product_id, \n",
    "       name, \n",
    "       price\n",
    "  FROM products\n",
    " WHERE price <= 100\n",
    " ORDER BY price DESC"
   ]
  },
  {
   "cell_type": "markdown",
   "id": "e5105b1a",
   "metadata": {},
   "source": [
    "### Задача 2"
   ]
  },
  {
   "cell_type": "markdown",
   "id": "2b582e32",
   "metadata": {},
   "source": [
    "В таблице `products` найдите все товары, содержащие в своём названии последовательность символов «чай» (без кавычек). Выведите две колонки: id продукта и его название.\n",
    "\n",
    "Поля в результирующей таблице: product_id, name"
   ]
  },
  {
   "cell_type": "code",
   "execution_count": null,
   "id": "5d22075c",
   "metadata": {},
   "outputs": [],
   "source": [
    "SELECT product_id, \n",
    "       name\n",
    "  FROM products\n",
    " WHERE name LIKE '%чай%'"
   ]
  },
  {
   "cell_type": "markdown",
   "id": "9957864c",
   "metadata": {},
   "source": [
    "### Задача 3"
   ]
  },
  {
   "cell_type": "markdown",
   "id": "a41b344e",
   "metadata": {},
   "source": [
    "Выберите из таблицы `products` id и наименования только тех товаров, названия которых начинаются на букву «с» и содержат только одно слово.\n",
    "\n",
    "Поля в результирующей таблице: product_id, name"
   ]
  },
  {
   "cell_type": "code",
   "execution_count": null,
   "id": "d12679a0",
   "metadata": {},
   "outputs": [],
   "source": [
    "SELECT product_id, name\n",
    "  FROM products\n",
    " WHERE name NOT like '% %' AND \n",
    "       name like 'с%'"
   ]
  }
 ],
 "metadata": {
  "kernelspec": {
   "display_name": "Python 3 (ipykernel)",
   "language": "python",
   "name": "python3"
  },
  "language_info": {
   "codemirror_mode": {
    "name": "ipython",
    "version": 3
   },
   "file_extension": ".py",
   "mimetype": "text/x-python",
   "name": "python",
   "nbconvert_exporter": "python",
   "pygments_lexer": "ipython3",
   "version": "3.9.7"
  }
 },
 "nbformat": 4,
 "nbformat_minor": 5
}
