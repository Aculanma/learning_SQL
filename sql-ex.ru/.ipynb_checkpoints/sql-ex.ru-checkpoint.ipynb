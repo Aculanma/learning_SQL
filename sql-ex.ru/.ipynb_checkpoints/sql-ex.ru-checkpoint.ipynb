{
 "cells": [
  {
   "cell_type": "markdown",
   "id": "d1a1a92d",
   "metadata": {},
   "source": [
    "### 1"
   ]
  },
  {
   "cell_type": "code",
   "execution_count": null,
   "id": "41326aab",
   "metadata": {},
   "outputs": [],
   "source": [
    "SELECT model, speed, hd\n",
    "FROM PC\n",
    "WHERE price < 500\n"
   ]
  },
  {
   "cell_type": "markdown",
   "id": "6140db0c",
   "metadata": {},
   "source": [
    "### 2"
   ]
  },
  {
   "cell_type": "code",
   "execution_count": null,
   "id": "45e348bd",
   "metadata": {},
   "outputs": [],
   "source": [
    "SELECT model, ram, screen\n",
    "FROM Laptop\n",
    "WHERE price > 1000\n"
   ]
  },
  {
   "cell_type": "markdown",
   "id": "98769bc3",
   "metadata": {},
   "source": [
    "### 3"
   ]
  },
  {
   "cell_type": "code",
   "execution_count": null,
   "id": "38d54220",
   "metadata": {},
   "outputs": [],
   "source": [
    "SELECT model, ram, screen\n",
    "FROM Laptop\n",
    "WHERE price > 1000\n"
   ]
  },
  {
   "cell_type": "markdown",
   "id": "6720f217",
   "metadata": {},
   "source": [
    "### 4"
   ]
  },
  {
   "cell_type": "code",
   "execution_count": null,
   "id": "296381b5",
   "metadata": {},
   "outputs": [],
   "source": [
    "SELECT *\n",
    "FROM Printer\n",
    "WHERE color = 'y'\n"
   ]
  },
  {
   "cell_type": "markdown",
   "id": "6734cd4a",
   "metadata": {},
   "source": [
    "### 5"
   ]
  },
  {
   "cell_type": "code",
   "execution_count": null,
   "id": "1fd52732",
   "metadata": {},
   "outputs": [],
   "source": [
    "SELECT model, speed, hd\n",
    "from PC\n",
    "where (cd = '12x' or cd = '24x') and price < 600\n"
   ]
  },
  {
   "cell_type": "markdown",
   "id": "f37710d3",
   "metadata": {},
   "source": [
    "### 6"
   ]
  },
  {
   "cell_type": "code",
   "execution_count": null,
   "id": "38dcd89a",
   "metadata": {},
   "outputs": [],
   "source": [
    "SELECT DISTINCT Product.maker, Laptop.speed\n",
    "FROM Product join Laptop\n",
    "ON Product.model = Laptop.model \n",
    "WHERE Laptop.hd >= 10\n"
   ]
  },
  {
   "cell_type": "markdown",
   "id": "8ff9b413",
   "metadata": {},
   "source": [
    "### 7"
   ]
  },
  {
   "cell_type": "code",
   "execution_count": null,
   "id": "5792839e",
   "metadata": {},
   "outputs": [],
   "source": [
    "select p.model, \n",
    "       price\n",
    "  FROM (SELECT model, price\n",
    "from laptop\n",
    "union\n",
    "select model, price\n",
    "from pc\n",
    "union\n",
    "select model, price\n",
    "from printer) as a join\n",
    "product as p on\n",
    "a.model = p.model\n",
    "where maker = 'B'\n"
   ]
  },
  {
   "cell_type": "markdown",
   "id": "e511ae81",
   "metadata": {},
   "source": [
    "### 8"
   ]
  },
  {
   "cell_type": "code",
   "execution_count": null,
   "id": "749f0a58",
   "metadata": {},
   "outputs": [],
   "source": [
    "SELECT DISTINCT maker\n",
    "  FROM product\n",
    " WHERE type = 'PC' and maker NOT IN\n",
    "       (SELECT maker\n",
    "          FROM product\n",
    "         WHERE type = 'Laptop')\n"
   ]
  },
  {
   "cell_type": "markdown",
   "id": "8555444a",
   "metadata": {},
   "source": [
    "### 9"
   ]
  },
  {
   "cell_type": "code",
   "execution_count": null,
   "id": "90ebd234",
   "metadata": {},
   "outputs": [],
   "source": [
    "select distinct maker\n",
    "from product p join pc\n",
    "on p.model = pc.model\n",
    "where speed >= 450\n"
   ]
  },
  {
   "cell_type": "markdown",
   "id": "0241f9cd",
   "metadata": {},
   "source": [
    "### 10"
   ]
  },
  {
   "cell_type": "code",
   "execution_count": null,
   "id": "98970091",
   "metadata": {},
   "outputs": [],
   "source": [
    "select model, \n",
    "       price\n",
    "from printer\n",
    "where price = (select max(price) from printer)\n"
   ]
  },
  {
   "cell_type": "markdown",
   "id": "55b60381",
   "metadata": {},
   "source": [
    "### 11"
   ]
  },
  {
   "cell_type": "markdown",
   "id": "457f4916",
   "metadata": {},
   "source": [
    "SELECT AVG(speed) as avg_speed\n",
    "from pc\n"
   ]
  },
  {
   "cell_type": "markdown",
   "id": "6962fe70",
   "metadata": {},
   "source": [
    "### 12"
   ]
  },
  {
   "cell_type": "markdown",
   "id": "37c3934e",
   "metadata": {},
   "source": [
    "Найдите среднюю скорость ПК-блокнотов, цена которых превышает 1000 дол."
   ]
  },
  {
   "cell_type": "code",
   "execution_count": null,
   "id": "da69cabb",
   "metadata": {},
   "outputs": [],
   "source": [
    "SELECT AVG(speed) AS avg_speed\n",
    "  FROM laptop\n",
    " WHERE price > 1000\n"
   ]
  },
  {
   "cell_type": "markdown",
   "id": "c82df909",
   "metadata": {},
   "source": [
    "### 13"
   ]
  },
  {
   "cell_type": "code",
   "execution_count": null,
   "id": "4662f7fc",
   "metadata": {},
   "outputs": [],
   "source": [
    "Найдите среднюю скорость ПК, выпущенных производителем A."
   ]
  },
  {
   "cell_type": "code",
   "execution_count": null,
   "id": "8bed8bb8",
   "metadata": {},
   "outputs": [],
   "source": [
    "SELECT AVG(speed) AS avg_speed\n",
    "  FROM product JOIN pc\n",
    "       ON product.model = pc.model\n",
    "WHERE maker = 'A'\n"
   ]
  },
  {
   "cell_type": "markdown",
   "id": "1f93ac8c",
   "metadata": {},
   "source": [
    "### 14"
   ]
  },
  {
   "cell_type": "markdown",
   "id": "a0096162",
   "metadata": {},
   "source": [
    "Найдите класс, имя и страну для кораблей из таблицы Ships, имеющих не менее 10 орудий."
   ]
  },
  {
   "cell_type": "code",
   "execution_count": null,
   "id": "eff5dbd7",
   "metadata": {},
   "outputs": [],
   "source": [
    "SELECT ships.class AS class,\n",
    "       ships.name AS name,\n",
    "       classes.country AS country\n",
    "  FROM ships JOIN classes\n",
    "       ON classes.class = ships.class\n",
    " WHERE numGuns >= 10\n"
   ]
  },
  {
   "cell_type": "markdown",
   "id": "9cb59479",
   "metadata": {},
   "source": [
    "### 15"
   ]
  },
  {
   "cell_type": "markdown",
   "id": "d9ca98b2",
   "metadata": {},
   "source": [
    "Найдите размеры жестких дисков, совпадающих у двух и более PC. Вывести: HD"
   ]
  },
  {
   "cell_type": "code",
   "execution_count": null,
   "id": "7b9b524d",
   "metadata": {},
   "outputs": [],
   "source": [
    "SELECT hd\n",
    "  FROM pc\n",
    " GROUP BY hd\n",
    "HAVING COUNT(*) > 1\n"
   ]
  },
  {
   "cell_type": "markdown",
   "id": "5c6bd7fa",
   "metadata": {},
   "source": [
    "### 16"
   ]
  },
  {
   "cell_type": "markdown",
   "id": "40137acf",
   "metadata": {},
   "source": [
    "Найдите пары моделей PC, имеющих одинаковые скорость и RAM. В результате каждая пара указывается только один раз, т.е. (i,j), но не (j,i), Порядок вывода: модель с большим номером, модель с меньшим номером, скорость и RAM."
   ]
  },
  {
   "cell_type": "code",
   "execution_count": null,
   "id": "c1c88635",
   "metadata": {},
   "outputs": [],
   "source": [
    "SELECT DISTINCT p1.model, \n",
    "       p2.model, \n",
    "       p1.speed, \n",
    "       p1.ram\n",
    "  FROM pc AS p1, pc AS p2\n",
    " WHERE p1.model > p2.model \n",
    "       AND p1.ram = p2.ram \n",
    "       AND p1.speed = p2.speed\n"
   ]
  },
  {
   "cell_type": "markdown",
   "id": "323374b9",
   "metadata": {},
   "source": [
    "### 17"
   ]
  },
  {
   "cell_type": "code",
   "execution_count": null,
   "id": "3fce90a1",
   "metadata": {},
   "outputs": [],
   "source": [
    "Найдите модели ПК-блокнотов, скорость которых меньше скорости каждого из ПК.\n",
    "Вывести: type, model, speed"
   ]
  },
  {
   "cell_type": "code",
   "execution_count": null,
   "id": "02df2a62",
   "metadata": {},
   "outputs": [],
   "source": [
    "SELECR DISTINCT type, \n",
    "       laptop.model, \n",
    "       laptop.speed\n",
    "  FROM product JOIN laptop\n",
    "       ON product.model = laptop.model\n",
    " WHERE laptop.speed < (SELECT MIN(speed)\n",
    "                         FROM pc)\n"
   ]
  },
  {
   "cell_type": "markdown",
   "id": "e8d23f7a",
   "metadata": {},
   "source": [
    "### 18"
   ]
  },
  {
   "cell_type": "markdown",
   "id": "dca72020",
   "metadata": {},
   "source": [
    "Найдите производителей самых дешевых цветных принтеров. Вывести: maker, price"
   ]
  },
  {
   "cell_type": "code",
   "execution_count": null,
   "id": "0ff04b4a",
   "metadata": {},
   "outputs": [],
   "source": [
    "SELECT DISTINCT maker, price \n",
    "  FROM product join printer\n",
    "       ON product.model = printer.model\n",
    " WHERE price = (SELECT MIN(price) \n",
    "                 FROM printer \n",
    "                WHERE color = 'y')\n",
    "       AND color = 'y'\n"
   ]
  },
  {
   "cell_type": "markdown",
   "id": "9b0da9eb",
   "metadata": {},
   "source": [
    "### 19"
   ]
  },
  {
   "cell_type": "markdown",
   "id": "93d22f68",
   "metadata": {},
   "source": [
    "Для каждого производителя, имеющего модели в таблице Laptop, найдите средний размер экрана выпускаемых им ПК-блокнотов.\n",
    "Вывести: maker, средний размер экрана."
   ]
  },
  {
   "cell_type": "code",
   "execution_count": null,
   "id": "ad732695",
   "metadata": {},
   "outputs": [],
   "source": [
    "SELECT maker, \n",
    "       AVG(screen) AS avg_screen\n",
    "  FROM laptop JOIN product\n",
    "       ON laptop.model = product.model\n",
    " GROUP BY maker\n"
   ]
  },
  {
   "cell_type": "markdown",
   "id": "1a8a6ebf",
   "metadata": {},
   "source": [
    "### 20"
   ]
  },
  {
   "cell_type": "markdown",
   "id": "881b7e04",
   "metadata": {},
   "source": [
    "Найдите производителей, выпускающих по меньшей мере три различных модели ПК. Вывести: Maker, число моделей ПК."
   ]
  },
  {
   "cell_type": "code",
   "execution_count": null,
   "id": "1cad609c",
   "metadata": {},
   "outputs": [],
   "source": [
    "SELECT maker, \n",
    "       COUNT(model) AS num_models\n",
    "  FROM product\n",
    " WHERE type = 'PC'\n",
    " GROUP BY maker\n",
    "HAVING COUNT(model) >= 3\n"
   ]
  },
  {
   "cell_type": "markdown",
   "id": "b422694a",
   "metadata": {},
   "source": [
    "### 21"
   ]
  },
  {
   "cell_type": "markdown",
   "id": "84c6844d",
   "metadata": {},
   "source": [
    "Найдите максимальную цену ПК, выпускаемых каждым производителем, у которого есть модели в таблице PC.\n",
    "Вывести: maker, максимальная цена."
   ]
  },
  {
   "cell_type": "code",
   "execution_count": null,
   "id": "87082716",
   "metadata": {},
   "outputs": [],
   "source": [
    "SELECT maker, \n",
    "       MAX(price) AS max_price\n",
    "  FROM product JOIN pc\n",
    "       ON product.model = pc.model\n",
    " WHERE type = 'PC'\n",
    " GROUP BY maker\n"
   ]
  },
  {
   "cell_type": "markdown",
   "id": "a346164d",
   "metadata": {},
   "source": [
    "### 22"
   ]
  },
  {
   "cell_type": "code",
   "execution_count": null,
   "id": "0dba0e22",
   "metadata": {},
   "outputs": [],
   "source": [
    "SELECT speed, \n",
    "       AVG(price) AS avg_price\n",
    "  FROM PC\n",
    " WHERE speed > 600\n",
    " GROUP BY speed\n"
   ]
  },
  {
   "cell_type": "markdown",
   "id": "016b9dc4",
   "metadata": {},
   "source": [
    "### 23"
   ]
  },
  {
   "cell_type": "markdown",
   "id": "e9200df2",
   "metadata": {},
   "source": [
    "Найдите производителей, которые производили бы как ПК\n",
    "со скоростью не менее 750 МГц, так и ПК-блокноты со скоростью не менее 750 МГц.\n",
    "Вывести: Maker"
   ]
  },
  {
   "cell_type": "code",
   "execution_count": null,
   "id": "b22ea528",
   "metadata": {},
   "outputs": [],
   "source": [
    "SELECT DISTINCT maker\n",
    "  FROM product JOIN pc \n",
    "       ON product.model = pc.model\n",
    " WHERE speed >= 750 \n",
    "       AND maker IN (SELECT maker\n",
    "                       FROM product JOIN laptop \n",
    "                            ON product.model=laptop.model\n",
    "                      WHERE speed >= 750)\n",
    "\n"
   ]
  },
  {
   "cell_type": "markdown",
   "id": "496b7951",
   "metadata": {},
   "source": [
    "### 24"
   ]
  },
  {
   "cell_type": "markdown",
   "id": "d6853462",
   "metadata": {},
   "source": [
    "Перечислите номера моделей любых типов, имеющих самую высокую цену по всей имеющейся в базе данных продукции."
   ]
  },
  {
   "cell_type": "code",
   "execution_count": null,
   "id": "b2454392",
   "metadata": {},
   "outputs": [],
   "source": [
    "SELECT model\n",
    "  FROM (SELECT model, \n",
    "               price\n",
    "          FROM pc\n",
    "         UNION\n",
    "        SELECT model, \n",
    "               price\n",
    "          FROM laptop\n",
    "         UNION \n",
    "        SELECT model, \n",
    "               price\n",
    "          FROM printer) AS q1\n",
    " WHERE price = (SELECT MAX(price)\n",
    "                  FROM (SELECT price\n",
    "                          FROM pc\n",
    "                         UNION\n",
    "                        SELECT price\n",
    "                          FROM laptop\n",
    "                         UNION \n",
    "                        SELECT price\n",
    "                          FROM printer) AS q2)"
   ]
  },
  {
   "cell_type": "markdown",
   "id": "4ed4de0b",
   "metadata": {},
   "source": [
    "### 25"
   ]
  },
  {
   "cell_type": "markdown",
   "id": "2b5e8fae",
   "metadata": {},
   "source": [
    "Найдите производителей принтеров, которые производят ПК с наименьшим объемом RAM и с самым быстрым процессором среди всех ПК, имеющих наименьший объем RAM. Вывести: Maker\n"
   ]
  },
  {
   "cell_type": "code",
   "execution_count": null,
   "id": "e94f8f5d",
   "metadata": {},
   "outputs": [],
   "source": [
    "SELECT DISTINCT maker\n",
    "  FROM product\n",
    " WHERE model IN (SELECT model\n",
    "                  FROM pc\n",
    "                 WHERE ram = (SELECT MIN(ram)\n",
    "                                FROM pc\n",
    "                             )\n",
    "       AND speed = (SELECT MAX(speed)\n",
    "                      FROM pc\n",
    "                     WHERE ram = (SELECT MIN(ram)\n",
    "                                    FROM pc\n",
    "                                 )\n",
    "                   )\n",
    "                )"
   ]
  }
 ],
 "metadata": {
  "kernelspec": {
   "display_name": "Python 3 (ipykernel)",
   "language": "python",
   "name": "python3"
  },
  "language_info": {
   "codemirror_mode": {
    "name": "ipython",
    "version": 3
   },
   "file_extension": ".py",
   "mimetype": "text/x-python",
   "name": "python",
   "nbconvert_exporter": "python",
   "pygments_lexer": "ipython3",
   "version": "3.9.7"
  }
 },
 "nbformat": 4,
 "nbformat_minor": 5
}
