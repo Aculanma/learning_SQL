{
 "cells": [
  {
   "cell_type": "markdown",
   "id": "b594ec49",
   "metadata": {},
   "source": [
    "Схема БД состоит из четырех таблиц:  \n",
    "`Product`(maker, model, type)  \n",
    "`PC`(code, model, speed, ram, hd, cd, price)  \n",
    "`Laptop`(code, model, speed, ram, hd, price, screen)  \n",
    "`Printer`(code, model, color, type, price)  \n",
    "\n",
    "Таблица `Product` представляет производителя (maker), номер модели (model) и тип ('PC' - ПК, 'Laptop' - ПК-блокнот или 'Printer' - принтер). Предполагается, что номера моделей в таблице `Product` уникальны для всех производителей и типов продуктов. В таблице `PC` для каждого ПК, однозначно определяемого уникальным кодом – code, указаны модель – model (внешний ключ к таблице `Product`), скорость - speed (процессора в мегагерцах), объем памяти - ram (в мегабайтах), размер диска - hd (в гигабайтах), скорость считывающего устройства - cd (например, '4x') и цена - price (в долларах). Таблица `Laptop` аналогична таблице `РС` за исключением того, что вместо скорости CD содержит размер экрана -screen (в дюймах). В таблице `Printer` для каждой модели принтера указывается, является ли он цветным - color ('y', если цветной), тип принтера - type (лазерный – 'Laser', струйный – 'Jet' или матричный – 'Matrix') и цена - price."
   ]
  },
  {
   "cell_type": "markdown",
   "id": "d1a1a92d",
   "metadata": {},
   "source": [
    "### 1"
   ]
  },
  {
   "cell_type": "markdown",
   "id": "2641ad73",
   "metadata": {},
   "source": [
    "Найдите номер модели, скорость и размер жесткого диска для всех ПК стоимостью менее 500 дол. Вывести: model, speed и hd"
   ]
  },
  {
   "attachments": {
    "image.png": {
     "image/png": "[encoded data removed]"
    }
   },
   "cell_type": "markdown",
   "id": "d8258e3c",
   "metadata": {},
   "source": [
    "![image.png](attachment:image.png)"
   ]
  },
  {
   "cell_type": "code",
   "execution_count": null,
   "id": "a1a0efa1",
   "metadata": {},
   "outputs": [],
   "source": [
    "SELECT model, \n",
    "       speed, \n",
    "       hd\n",
    "  FROM PC\n",
    " WHERE price < 500"
   ]
  },
  {
   "cell_type": "markdown",
   "id": "6140db0c",
   "metadata": {},
   "source": [
    "### 2"
   ]
  },
  {
   "cell_type": "markdown",
   "id": "4e07e906",
   "metadata": {},
   "source": [
    "Найдите производителей принтеров. Вывести: maker"
   ]
  },
  {
   "cell_type": "code",
   "execution_count": null,
   "id": "45e348bd",
   "metadata": {},
   "outputs": [],
   "source": [
    "SELECT DISTINCT maker\n",
    "  FROM Product\n",
    " WHERE type = 'Printer'"
   ]
  },
  {
   "cell_type": "markdown",
   "id": "98769bc3",
   "metadata": {},
   "source": [
    "### 3"
   ]
  },
  {
   "cell_type": "markdown",
   "id": "a26162a2",
   "metadata": {},
   "source": [
    "Найдите номер модели, объем памяти и размеры экранов ПК-блокнотов, цена которых превышает 1000 дол."
   ]
  },
  {
   "cell_type": "code",
   "execution_count": null,
   "id": "38d54220",
   "metadata": {},
   "outputs": [],
   "source": [
    "SELECT model, \n",
    "       ram, \n",
    "       screen\n",
    "  FROM Laptop\n",
    " WHERE price > 1000"
   ]
  },
  {
   "cell_type": "markdown",
   "id": "6720f217",
   "metadata": {},
   "source": [
    "### 4"
   ]
  },
  {
   "cell_type": "markdown",
   "id": "a9ea691d",
   "metadata": {},
   "source": [
    "Найдите все записи таблицы `Printer` для цветных принтеров."
   ]
  },
  {
   "cell_type": "code",
   "execution_count": null,
   "id": "296381b5",
   "metadata": {},
   "outputs": [],
   "source": [
    "SELECT *\n",
    "  FROM Printer\n",
    " WHERE color = 'y'"
   ]
  },
  {
   "cell_type": "markdown",
   "id": "6734cd4a",
   "metadata": {},
   "source": [
    "### 5"
   ]
  },
  {
   "cell_type": "markdown",
   "id": "6049815d",
   "metadata": {},
   "source": [
    "Найдите номер модели, скорость и размер жесткого диска ПК, имеющих 12x или 24x CD и цену менее 600 дол."
   ]
  },
  {
   "attachments": {
    "image.png": {
     "image/png": "[encoded data removed]"
    }
   },
   "cell_type": "markdown",
   "id": "a69fd62f",
   "metadata": {},
   "source": [
    "![image.png](attachment:image.png)"
   ]
  },
  {
   "cell_type": "code",
   "execution_count": null,
   "id": "1fd52732",
   "metadata": {},
   "outputs": [],
   "source": [
    "SELECT model, \n",
    "       speed, \n",
    "       hd\n",
    "  FROM PC\n",
    " WHERE (cd = '12x' OR cd = '24x') \n",
    "       AND price < 600\n"
   ]
  },
  {
   "cell_type": "markdown",
   "id": "f37710d3",
   "metadata": {},
   "source": [
    "### 6"
   ]
  },
  {
   "cell_type": "markdown",
   "id": "cdaf8efe",
   "metadata": {},
   "source": [
    "Для каждого производителя, выпускающего ПК-блокноты c объёмом жесткого диска не менее 10 Гбайт, найти скорости таких ПК-блокнотов. Вывод: производитель, скорость.\n"
   ]
  },
  {
   "cell_type": "code",
   "execution_count": null,
   "id": "38dcd89a",
   "metadata": {},
   "outputs": [],
   "source": [
    "SELECT DISTINCT Product.maker, Laptop.speed\n",
    "  FROM Product join Laptop\n",
    "       ON Product.model = Laptop.model \n",
    " WHERE Laptop.hd >= 10"
   ]
  },
  {
   "cell_type": "markdown",
   "id": "8ff9b413",
   "metadata": {},
   "source": [
    "### 7"
   ]
  },
  {
   "cell_type": "markdown",
   "id": "48d30b70",
   "metadata": {},
   "source": [
    "Найдите номера моделей и цены всех имеющихся в продаже продуктов (любого типа) производителя B (латинская буква)."
   ]
  },
  {
   "cell_type": "code",
   "execution_count": null,
   "id": "5792839e",
   "metadata": {},
   "outputs": [],
   "source": [
    "SELECT p.model, \n",
    "       price\n",
    "  FROM (SELECT model, \n",
    "               price\n",
    "          FROM laptop\n",
    "         UNION\n",
    "        SELECT model, \n",
    "               price\n",
    "          FROM pc\n",
    "         UNION\n",
    "       SELECT model, \n",
    "               price\n",
    "          FROM printer) AS a join product AS p \n",
    "       ON a.model = p.model\n",
    " WHERE maker = 'B'"
   ]
  },
  {
   "cell_type": "markdown",
   "id": "e511ae81",
   "metadata": {},
   "source": [
    "### 8"
   ]
  },
  {
   "cell_type": "markdown",
   "id": "24e9d06a",
   "metadata": {},
   "source": [
    "Найдите производителя, выпускающего ПК, но не ПК-блокноты."
   ]
  },
  {
   "cell_type": "code",
   "execution_count": null,
   "id": "749f0a58",
   "metadata": {},
   "outputs": [],
   "source": [
    "SELECT DISTINCT maker\n",
    "  FROM product\n",
    " WHERE type = 'PC' \n",
    "       AND maker NOT IN (SELECT maker\n",
    "                           FROM product\n",
    "                          WHERE type = 'Laptop')"
   ]
  },
  {
   "cell_type": "markdown",
   "id": "8555444a",
   "metadata": {},
   "source": [
    "### 9"
   ]
  },
  {
   "cell_type": "markdown",
   "id": "982dd58c",
   "metadata": {},
   "source": [
    "Найдите производителей ПК с процессором не менее 450 Мгц. Вывести: Maker"
   ]
  },
  {
   "cell_type": "code",
   "execution_count": null,
   "id": "90a212f6",
   "metadata": {},
   "outputs": [],
   "source": [
    "SELECT DISTINCT maker\n",
    "  FROM product p join pc\n",
    "       ON p.model = pc.model\n",
    " WHERE speed >= 450"
   ]
  },
  {
   "cell_type": "markdown",
   "id": "0241f9cd",
   "metadata": {},
   "source": [
    "### 10"
   ]
  },
  {
   "cell_type": "markdown",
   "id": "d69d8d8a",
   "metadata": {},
   "source": [
    "Найдите модели принтеров, имеющих самую высокую цену. Вывести: model, price"
   ]
  },
  {
   "attachments": {
    "image.png": {
     "image/png": "[encoded data removed]"
    }
   },
   "cell_type": "markdown",
   "id": "ed2e9b62",
   "metadata": {},
   "source": [
    "![image.png](attachment:image.png)"
   ]
  },
  {
   "cell_type": "code",
   "execution_count": null,
   "id": "98970091",
   "metadata": {},
   "outputs": [],
   "source": [
    "SELECT model, \n",
    "       price\n",
    "  FROM printer\n",
    " WHERE price = (SELECT MAX(price) \n",
    "                  FROM printer)"
   ]
  },
  {
   "cell_type": "markdown",
   "id": "55b60381",
   "metadata": {},
   "source": [
    "### 11"
   ]
  },
  {
   "cell_type": "markdown",
   "id": "927331e2",
   "metadata": {},
   "source": [
    "Найдите среднюю скорость ПК."
   ]
  },
  {
   "cell_type": "code",
   "execution_count": null,
   "id": "5929a41e",
   "metadata": {},
   "outputs": [],
   "source": [
    "SELECT AVG(speed) AS avg_speed\n",
    "  FROM pc"
   ]
  },
  {
   "cell_type": "markdown",
   "id": "6962fe70",
   "metadata": {},
   "source": [
    "### 12"
   ]
  },
  {
   "cell_type": "markdown",
   "id": "37c3934e",
   "metadata": {},
   "source": [
    "Найдите среднюю скорость ПК-блокнотов, цена которых превышает 1000 дол."
   ]
  },
  {
   "cell_type": "code",
   "execution_count": null,
   "id": "da69cabb",
   "metadata": {},
   "outputs": [],
   "source": [
    "SELECT AVG(speed) AS avg_speed\n",
    "  FROM laptop\n",
    " WHERE price > 1000"
   ]
  },
  {
   "cell_type": "markdown",
   "id": "c82df909",
   "metadata": {},
   "source": [
    "### 13"
   ]
  },
  {
   "cell_type": "markdown",
   "id": "bbec383a",
   "metadata": {},
   "source": [
    "Найдите среднюю скорость ПК, выпущенных производителем A."
   ]
  },
  {
   "cell_type": "code",
   "execution_count": null,
   "id": "8bed8bb8",
   "metadata": {},
   "outputs": [],
   "source": [
    "SELECT AVG(speed) AS avg_speed\n",
    "  FROM product JOIN pc\n",
    "       ON product.model = pc.model\n",
    " WHERE maker = 'A'"
   ]
  },
  {
   "cell_type": "markdown",
   "id": "1f93ac8c",
   "metadata": {},
   "source": [
    "### 14"
   ]
  },
  {
   "cell_type": "markdown",
   "id": "a0096162",
   "metadata": {},
   "source": [
    "Найдите класс, имя и страну для кораблей из таблицы Ships, имеющих не менее 10 орудий."
   ]
  },
  {
   "cell_type": "code",
   "execution_count": null,
   "id": "eff5dbd7",
   "metadata": {},
   "outputs": [],
   "source": [
    "SELECT ships.class AS class,\n",
    "       ships.name AS name,\n",
    "       classes.country AS country\n",
    "  FROM ships JOIN classes\n",
    "       ON classes.class = ships.class\n",
    " WHERE numGuns >= 10\n"
   ]
  },
  {
   "cell_type": "markdown",
   "id": "9cb59479",
   "metadata": {},
   "source": [
    "### 15"
   ]
  },
  {
   "cell_type": "markdown",
   "id": "d9ca98b2",
   "metadata": {},
   "source": [
    "Найдите размеры жестких дисков, совпадающих у двух и более PC. Вывести: HD"
   ]
  },
  {
   "cell_type": "code",
   "execution_count": null,
   "id": "7b9b524d",
   "metadata": {},
   "outputs": [],
   "source": [
    "SELECT hd\n",
    "  FROM pc\n",
    " GROUP BY hd\n",
    "HAVING COUNT(*) > 1\n"
   ]
  },
  {
   "cell_type": "markdown",
   "id": "5c6bd7fa",
   "metadata": {},
   "source": [
    "### 16"
   ]
  },
  {
   "cell_type": "markdown",
   "id": "40137acf",
   "metadata": {},
   "source": [
    "Найдите пары моделей PC, имеющих одинаковые скорость и RAM. В результате каждая пара указывается только один раз, т.е. (i,j), но не (j,i), Порядок вывода: модель с большим номером, модель с меньшим номером, скорость и RAM."
   ]
  },
  {
   "cell_type": "code",
   "execution_count": null,
   "id": "c1c88635",
   "metadata": {},
   "outputs": [],
   "source": [
    "SELECT DISTINCT p1.model, \n",
    "       p2.model, \n",
    "       p1.speed, \n",
    "       p1.ram\n",
    "  FROM pc AS p1, pc AS p2\n",
    " WHERE p1.model > p2.model \n",
    "       AND p1.ram = p2.ram \n",
    "       AND p1.speed = p2.speed\n"
   ]
  },
  {
   "cell_type": "markdown",
   "id": "323374b9",
   "metadata": {},
   "source": [
    "### 17"
   ]
  },
  {
   "cell_type": "code",
   "execution_count": null,
   "id": "3fce90a1",
   "metadata": {},
   "outputs": [],
   "source": [
    "Найдите модели ПК-блокнотов, скорость которых меньше скорости каждого из ПК.\n",
    "Вывести: type, model, speed"
   ]
  },
  {
   "cell_type": "code",
   "execution_count": null,
   "id": "02df2a62",
   "metadata": {},
   "outputs": [],
   "source": [
    "SELECR DISTINCT type, \n",
    "       laptop.model, \n",
    "       laptop.speed\n",
    "  FROM product JOIN laptop\n",
    "       ON product.model = laptop.model\n",
    " WHERE laptop.speed < (SELECT MIN(speed)\n",
    "                         FROM pc)\n"
   ]
  },
  {
   "cell_type": "markdown",
   "id": "e8d23f7a",
   "metadata": {},
   "source": [
    "### 18"
   ]
  },
  {
   "cell_type": "markdown",
   "id": "dca72020",
   "metadata": {},
   "source": [
    "Найдите производителей самых дешевых цветных принтеров. Вывести: maker, price"
   ]
  },
  {
   "cell_type": "code",
   "execution_count": null,
   "id": "0ff04b4a",
   "metadata": {},
   "outputs": [],
   "source": [
    "SELECT DISTINCT maker, price \n",
    "  FROM product join printer\n",
    "       ON product.model = printer.model\n",
    " WHERE price = (SELECT MIN(price) \n",
    "                 FROM printer \n",
    "                WHERE color = 'y')\n",
    "       AND color = 'y'\n"
   ]
  },
  {
   "cell_type": "markdown",
   "id": "9b0da9eb",
   "metadata": {},
   "source": [
    "### 19"
   ]
  },
  {
   "cell_type": "markdown",
   "id": "93d22f68",
   "metadata": {},
   "source": [
    "Для каждого производителя, имеющего модели в таблице Laptop, найдите средний размер экрана выпускаемых им ПК-блокнотов.\n",
    "Вывести: maker, средний размер экрана."
   ]
  },
  {
   "cell_type": "code",
   "execution_count": null,
   "id": "ad732695",
   "metadata": {},
   "outputs": [],
   "source": [
    "SELECT maker, \n",
    "       AVG(screen) AS avg_screen\n",
    "  FROM laptop JOIN product\n",
    "       ON laptop.model = product.model\n",
    " GROUP BY maker\n"
   ]
  },
  {
   "cell_type": "markdown",
   "id": "1a8a6ebf",
   "metadata": {},
   "source": [
    "### 20"
   ]
  },
  {
   "cell_type": "markdown",
   "id": "881b7e04",
   "metadata": {},
   "source": [
    "Найдите производителей, выпускающих по меньшей мере три различных модели ПК. Вывести: Maker, число моделей ПК."
   ]
  },
  {
   "cell_type": "code",
   "execution_count": null,
   "id": "1cad609c",
   "metadata": {},
   "outputs": [],
   "source": [
    "SELECT maker, \n",
    "       COUNT(model) AS num_models\n",
    "  FROM product\n",
    " WHERE type = 'PC'\n",
    " GROUP BY maker\n",
    "HAVING COUNT(model) >= 3\n"
   ]
  },
  {
   "cell_type": "markdown",
   "id": "b422694a",
   "metadata": {},
   "source": [
    "### 21"
   ]
  },
  {
   "cell_type": "markdown",
   "id": "84c6844d",
   "metadata": {},
   "source": [
    "Найдите максимальную цену ПК, выпускаемых каждым производителем, у которого есть модели в таблице PC.\n",
    "Вывести: maker, максимальная цена."
   ]
  },
  {
   "cell_type": "code",
   "execution_count": null,
   "id": "87082716",
   "metadata": {},
   "outputs": [],
   "source": [
    "SELECT maker, \n",
    "       MAX(price) AS max_price\n",
    "  FROM product JOIN pc\n",
    "       ON product.model = pc.model\n",
    " WHERE type = 'PC'\n",
    " GROUP BY maker\n"
   ]
  },
  {
   "cell_type": "markdown",
   "id": "a346164d",
   "metadata": {},
   "source": [
    "### 22"
   ]
  },
  {
   "cell_type": "code",
   "execution_count": null,
   "id": "0dba0e22",
   "metadata": {},
   "outputs": [],
   "source": [
    "SELECT speed, \n",
    "       AVG(price) AS avg_price\n",
    "  FROM PC\n",
    " WHERE speed > 600\n",
    " GROUP BY speed\n"
   ]
  },
  {
   "cell_type": "markdown",
   "id": "016b9dc4",
   "metadata": {},
   "source": [
    "### 23"
   ]
  },
  {
   "cell_type": "markdown",
   "id": "e9200df2",
   "metadata": {},
   "source": [
    "Найдите производителей, которые производили бы как ПК\n",
    "со скоростью не менее 750 МГц, так и ПК-блокноты со скоростью не менее 750 МГц.\n",
    "Вывести: Maker"
   ]
  },
  {
   "cell_type": "code",
   "execution_count": null,
   "id": "b22ea528",
   "metadata": {},
   "outputs": [],
   "source": [
    "SELECT DISTINCT maker\n",
    "  FROM product JOIN pc \n",
    "       ON product.model = pc.model\n",
    " WHERE speed >= 750 \n",
    "       AND maker IN (SELECT maker\n",
    "                       FROM product JOIN laptop \n",
    "                            ON product.model=laptop.model\n",
    "                      WHERE speed >= 750)\n",
    "\n"
   ]
  },
  {
   "cell_type": "markdown",
   "id": "496b7951",
   "metadata": {},
   "source": [
    "### 24"
   ]
  },
  {
   "cell_type": "markdown",
   "id": "d6853462",
   "metadata": {},
   "source": [
    "Перечислите номера моделей любых типов, имеющих самую высокую цену по всей имеющейся в базе данных продукции."
   ]
  },
  {
   "cell_type": "code",
   "execution_count": null,
   "id": "b2454392",
   "metadata": {},
   "outputs": [],
   "source": [
    "SELECT model\n",
    "  FROM (SELECT model, \n",
    "               price\n",
    "          FROM pc\n",
    "         UNION\n",
    "        SELECT model, \n",
    "               price\n",
    "          FROM laptop\n",
    "         UNION \n",
    "        SELECT model, \n",
    "               price\n",
    "          FROM printer) AS q1\n",
    " WHERE price = (SELECT MAX(price)\n",
    "                  FROM (SELECT price\n",
    "                          FROM pc\n",
    "                         UNION\n",
    "                        SELECT price\n",
    "                          FROM laptop\n",
    "                         UNION \n",
    "                        SELECT price\n",
    "                          FROM printer) AS q2)"
   ]
  },
  {
   "cell_type": "markdown",
   "id": "4ed4de0b",
   "metadata": {},
   "source": [
    "### 25"
   ]
  },
  {
   "cell_type": "markdown",
   "id": "2b5e8fae",
   "metadata": {},
   "source": [
    "Найдите производителей принтеров, которые производят ПК с наименьшим объемом RAM и с самым быстрым процессором среди всех ПК, имеющих наименьший объем RAM. Вывести: Maker\n"
   ]
  },
  {
   "cell_type": "code",
   "execution_count": null,
   "id": "e94f8f5d",
   "metadata": {},
   "outputs": [],
   "source": [
    "SELECT DISTINCT maker\n",
    "  FROM product\n",
    " WHERE model IN (SELECT model\n",
    "                  FROM pc\n",
    "                 WHERE ram = (SELECT MIN(ram)\n",
    "                                FROM pc\n",
    "                             )\n",
    "       AND speed = (SELECT MAX(speed)\n",
    "                      FROM pc\n",
    "                     WHERE ram = (SELECT MIN(ram)\n",
    "                                    FROM pc\n",
    "                                 )\n",
    "                   )\n",
    "                )"
   ]
  }
 ],
 "metadata": {
  "kernelspec": {
   "display_name": "Python 3 (ipykernel)",
   "language": "python",
   "name": "python3"
  },
  "language_info": {
   "codemirror_mode": {
    "name": "ipython",
    "version": 3
   },
   "file_extension": ".py",
   "mimetype": "text/x-python",
   "name": "python",
   "nbconvert_exporter": "python",
   "pygments_lexer": "ipython3",
   "version": "3.9.7"
  }
 },
 "nbformat": 4,
 "nbformat_minor": 5
}
