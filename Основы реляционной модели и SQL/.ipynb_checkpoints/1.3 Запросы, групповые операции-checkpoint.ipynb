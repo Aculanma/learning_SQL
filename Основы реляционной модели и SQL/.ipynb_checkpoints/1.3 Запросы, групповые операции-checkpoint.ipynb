{
 "cells": [
  {
   "cell_type": "markdown",
   "id": "6b078042",
   "metadata": {},
   "source": [
    "# Запросы, групповые операции"
   ]
  },
  {
   "cell_type": "markdown",
   "id": "edc4ce61",
   "metadata": {},
   "source": [
    "### 15"
   ]
  },
  {
   "cell_type": "code",
   "execution_count": null,
   "id": "cfd5e596",
   "metadata": {},
   "outputs": [],
   "source": []
  }
 ],
 "metadata": {
  "kernelspec": {
   "display_name": "Python 3 (ipykernel)",
   "language": "python",
   "name": "python3"
  },
  "language_info": {
   "codemirror_mode": {
    "name": "ipython",
    "version": 3
   },
   "file_extension": ".py",
   "mimetype": "text/x-python",
   "name": "python",
   "nbconvert_exporter": "python",
   "pygments_lexer": "ipython3",
   "version": "3.9.7"
  }
 },
 "nbformat": 4,
 "nbformat_minor": 5
}
